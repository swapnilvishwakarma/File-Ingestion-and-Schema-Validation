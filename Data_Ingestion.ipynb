{
  "nbformat": 4,
  "nbformat_minor": 0,
  "metadata": {
    "colab": {
      "name": "Part 2.ipynb",
      "provenance": []
    },
    "kernelspec": {
      "name": "python3",
      "display_name": "Python 3"
    },
    "language_info": {
      "name": "python"
    }
  },
  "cells": [
    {
      "cell_type": "code",
      "metadata": {
        "colab": {
          "base_uri": "https://localhost:8080/"
        },
        "id": "4ZMThH1_PO4m",
        "outputId": "da5149fb-a9e3-42b4-f050-c4eaad373c15"
      },
      "source": [
        "import os\n",
        "os.environ['KAGGLE_USERNAME'] = \"__\"\n",
        "os.environ['KAGGLE_KEY'] = \"__\"\n",
        "!kaggle competitions download -c riiid-test-answer-prediction"
      ],
      "execution_count": null,
      "outputs": [
        {
          "output_type": "stream",
          "text": [
            "Warning: Looks like you're using an outdated API Version, please consider updating (server 1.5.12 / client 1.5.4)\n",
            "Downloading competition.cpython-37m-x86_64-linux-gnu.so to /content\n",
            "  0% 0.00/445k [00:00<?, ?B/s]\n",
            "100% 445k/445k [00:00<00:00, 64.7MB/s]\n",
            "Downloading __init__.py to /content\n",
            "  0% 0.00/59.0 [00:00<?, ?B/s]\n",
            "100% 59.0/59.0 [00:00<00:00, 169kB/s]\n",
            "Downloading example_sample_submission.csv to /content\n",
            "  0% 0.00/971 [00:00<?, ?B/s]\n",
            "100% 971/971 [00:00<00:00, 935kB/s]\n",
            "Downloading train.csv.zip to /content\n",
            " 99% 1.28G/1.29G [00:17<00:00, 56.8MB/s]\n",
            "100% 1.29G/1.29G [00:17<00:00, 77.2MB/s]\n",
            "Downloading example_test.csv to /content\n",
            "  0% 0.00/5.99k [00:00<?, ?B/s]\n",
            "100% 5.99k/5.99k [00:00<00:00, 4.94MB/s]\n",
            "Downloading lectures.csv to /content\n",
            "  0% 0.00/9.48k [00:00<?, ?B/s]\n",
            "100% 9.48k/9.48k [00:00<00:00, 8.66MB/s]\n",
            "Downloading questions.csv to /content\n",
            "  0% 0.00/289k [00:00<?, ?B/s]\n",
            "100% 289k/289k [00:00<00:00, 88.8MB/s]\n"
          ],
          "name": "stdout"
        }
      ]
    },
    {
      "cell_type": "code",
      "metadata": {
        "colab": {
          "base_uri": "https://localhost:8080/"
        },
        "id": "qL8ojOdPaIj4",
        "outputId": "c0999a73-d232-4293-d44c-3c45e3b9c59c"
      },
      "source": [
        "from zipfile import ZipFile\n",
        "file_name = \"/content/train.csv.zip\"\n",
        "\n",
        "with ZipFile(file_name, 'r') as zip:\n",
        "  zip.extractall()\n",
        "  print('Done')"
      ],
      "execution_count": null,
      "outputs": [
        {
          "output_type": "stream",
          "text": [
            "Done\n"
          ],
          "name": "stdout"
        }
      ]
    },
    {
      "cell_type": "markdown",
      "metadata": {
        "id": "DQr0FGC_vLqi"
      },
      "source": [
        "# Data Ingestion"
      ]
    },
    {
      "cell_type": "code",
      "metadata": {
        "id": "RrOgp5efaUBj",
        "colab": {
          "base_uri": "https://localhost:8080/"
        },
        "outputId": "3fde724a-58eb-4ad4-b507-44689a1ea1c6"
      },
      "source": [
        "%%writefile testutility.py\n",
        "import logging\n",
        "import os\n",
        "import subprocess\n",
        "import yaml\n",
        "import pandas as pd\n",
        "import datetime \n",
        "import gc\n",
        "import re\n",
        "\n",
        "\n",
        "################\n",
        "# File Reading #\n",
        "################\n",
        "\n",
        "def read_config_file(filepath):\n",
        "    with open(filepath, 'r') as stream:\n",
        "        try:\n",
        "            return yaml.safe_load(stream)\n",
        "        except yaml.YAMLError as exc:\n",
        "            logging.error(exc)\n",
        "\n",
        "\n",
        "def replacer(string, char):\n",
        "    pattern = char + '{2,}'\n",
        "    string = re.sub(pattern, char, string) \n",
        "    return string\n",
        "\n",
        "def col_header_val(df, table_config):\n",
        "    cols = df.columns\n",
        "    cols = cols.str.strip()\n",
        "    cols.str.replace(\" \", \"_\")\n",
        "    expected_col = list(map(lambda x: x.lower(),  config_data['columns']))\n",
        "    cols = list(cols.sort_values())\n",
        "    expected_col.sort()\n",
        "    if len(cols) == len(expected_col) and cols == expected_col:\n",
        "      print(\"Column name and Column length Validation Passed!!\")\n",
        "      return 1\n",
        "    else:\n",
        "      print(\"Column name and Column length Validation Failed..\")\n",
        "      mismatched_columns_file = list(set(cols).difference(expected_col))\n",
        "      print(\"Following File columns are not in the YAML file\", mismatched_columns_file)\n",
        "      missing_YAML_file = list(set(expected_col).difference(cols))\n",
        "      print(\"Following YAML columns are not in the file uploaded\", missing_YAML_file)\n",
        "      logging.info(f'df columns: {cols}')\n",
        "      logging.info(f'expected columns: {expected_col}')\n",
        "      return 0\n",
        "\n",
        "def humanbytes(B):\n",
        "   'Return the given bytes as a human friendly KB, MB, GB, or TB string'\n",
        "   B = float(B)\n",
        "   KB = float(1024)\n",
        "   MB = float(KB ** 2) # 1,048,576\n",
        "   GB = float(KB ** 3) # 1,073,741,824\n",
        "   TB = float(KB ** 4) # 1,099,511,627,776\n",
        "\n",
        "   if B < KB:\n",
        "      return '{0} {1}'.format(B,'Bytes' if 0 == B > 1 else 'Byte')\n",
        "   elif KB <= B < MB:\n",
        "      return '{0:.2f} KB'.format(B/KB)\n",
        "   elif MB <= B < GB:\n",
        "      return '{0:.2f} MB'.format(B/MB)\n",
        "   elif GB <= B < TB:\n",
        "      return '{0:.2f} GB'.format(B/GB)\n",
        "   elif TB <= B:\n",
        "      return '{0:.2f} TB'.format(B/TB)\n",
        "\n",
        "def stats(df, config_data):\n",
        "  if col_header_val(df, config_data) == 1:\n",
        "    col_names = list(df.columns)\n",
        "    no_of_cols = df.shape[1]\n",
        "    no_of_rows = df.shape[0]\n",
        "    size = df.memory_usage(deep=True)\n",
        "    file_size = humanbytes(size)\n",
        "    statistics = f\"\\nNo. of Columns: {no_of_cols} \\nNo. of Rows: {no_of_rows} \\nColumn Names: {col_names} \\nFile Size: {file_size}\"\n",
        "    print(statistics)"
      ],
      "execution_count": 18,
      "outputs": [
        {
          "output_type": "stream",
          "text": [
            "Overwriting testutility.py\n"
          ],
          "name": "stdout"
        }
      ]
    },
    {
      "cell_type": "markdown",
      "metadata": {
        "id": "Bacok7fy38Af"
      },
      "source": [
        "# Writing YAML File"
      ]
    },
    {
      "cell_type": "code",
      "metadata": {
        "colab": {
          "base_uri": "https://localhost:8080/"
        },
        "id": "rr_WNWGE9ytp",
        "outputId": "df65631c-a47f-4a52-a3f9-cae6ff406f1d"
      },
      "source": [
        "%%writefile file.yaml\n",
        "columns: \n",
        "  - row_id\n",
        "  - timestamp\n",
        "  - user_id\n",
        "  - content_id\n",
        "  - content_type_id\n",
        "  - task_container_id\n",
        "  - user_answer\n",
        "  - answered_correctly\n",
        "  - prior_question_elapsed_time\n",
        "  - prior_question_had_explanation\n",
        "dataset_name: trainfile\n",
        "dtypes: \n",
        "  answered_correctly: int8\n",
        "  content_id: int16\n",
        "  content_type_id: boolean\n",
        "  prior_question_elapsed_time: float32\n",
        "  prior_question_had_explanation: boolean\n",
        "  row_id: int64\n",
        "  task_container_id: int16\n",
        "  timestamp: int64\n",
        "  user_answer: int8\n",
        "  user_id: int32\n",
        "file_name: train\n",
        "file_type: csv\n",
        "inbound_delimiter: \",\"\n",
        "outbound_delimiter: \"|\"\n",
        "skip_leading_rows: 1\n",
        "table_name: edsurv"
      ],
      "execution_count": 19,
      "outputs": [
        {
          "output_type": "stream",
          "text": [
            "Overwriting file.yaml\n"
          ],
          "name": "stdout"
        }
      ]
    },
    {
      "cell_type": "code",
      "metadata": {
        "id": "jCpXZcMEAHgB"
      },
      "source": [
        "# Read config file\n",
        "import testutility as util\n",
        "config_data = util.read_config_file(\"file.yaml\")"
      ],
      "execution_count": 20,
      "outputs": []
    },
    {
      "cell_type": "code",
      "metadata": {
        "colab": {
          "base_uri": "https://localhost:8080/"
        },
        "id": "gpjzuIh0AKoM",
        "outputId": "a2eed791-d43e-4d27-e510-a265054941ab"
      },
      "source": [
        "#inspecting data of config file\n",
        "config_data"
      ],
      "execution_count": 21,
      "outputs": [
        {
          "output_type": "execute_result",
          "data": {
            "text/plain": [
              "{'columns': ['row_id',\n",
              "  'timestamp',\n",
              "  'user_id',\n",
              "  'content_id',\n",
              "  'content_type_id',\n",
              "  'task_container_id',\n",
              "  'user_answer',\n",
              "  'answered_correctly',\n",
              "  'prior_question_elapsed_time',\n",
              "  'prior_question_had_explanation'],\n",
              " 'dataset_name': 'trainfile',\n",
              " 'dtypes': {'answered_correctly': 'int8',\n",
              "  'content_id': 'int16',\n",
              "  'content_type_id': 'boolean',\n",
              "  'prior_question_elapsed_time': 'float32',\n",
              "  'prior_question_had_explanation': 'boolean',\n",
              "  'row_id': 'int64',\n",
              "  'task_container_id': 'int16',\n",
              "  'timestamp': 'int64',\n",
              "  'user_answer': 'int8',\n",
              "  'user_id': 'int32'},\n",
              " 'file_name': 'train',\n",
              " 'file_type': 'csv',\n",
              " 'inbound_delimiter': ',',\n",
              " 'outbound_delimiter': '|',\n",
              " 'skip_leading_rows': 1,\n",
              " 'table_name': 'edsurv'}"
            ]
          },
          "metadata": {
            "tags": []
          },
          "execution_count": 21
        }
      ]
    },
    {
      "cell_type": "code",
      "metadata": {
        "colab": {
          "base_uri": "https://localhost:8080/",
          "height": 224
        },
        "id": "K0wLrkQpANHq",
        "outputId": "23208e0e-0c19-4923-8554-76fcb3028019"
      },
      "source": [
        "import pandas as pd\n",
        "# read the file using config file\n",
        "file_type = config_data['file_type']\n",
        "source_file = config_data['file_name'] + f'.{file_type}'\n",
        "datatypes = config_data['dtypes']\n",
        "#print(\"\",source_file)\n",
        "df = pd.read_csv(source_file, delimiter=config_data['inbound_delimiter'], dtype=datatypes)\n",
        "df.head()"
      ],
      "execution_count": null,
      "outputs": [
        {
          "output_type": "execute_result",
          "data": {
            "text/html": [
              "<div>\n",
              "<style scoped>\n",
              "    .dataframe tbody tr th:only-of-type {\n",
              "        vertical-align: middle;\n",
              "    }\n",
              "\n",
              "    .dataframe tbody tr th {\n",
              "        vertical-align: top;\n",
              "    }\n",
              "\n",
              "    .dataframe thead th {\n",
              "        text-align: right;\n",
              "    }\n",
              "</style>\n",
              "<table border=\"1\" class=\"dataframe\">\n",
              "  <thead>\n",
              "    <tr style=\"text-align: right;\">\n",
              "      <th></th>\n",
              "      <th>row_id</th>\n",
              "      <th>timestamp</th>\n",
              "      <th>user_id</th>\n",
              "      <th>content_id</th>\n",
              "      <th>content_type_id</th>\n",
              "      <th>task_container_id</th>\n",
              "      <th>user_answer</th>\n",
              "      <th>answered_correctly</th>\n",
              "      <th>prior_question_elapsed_time</th>\n",
              "      <th>prior_question_had_explanation</th>\n",
              "    </tr>\n",
              "  </thead>\n",
              "  <tbody>\n",
              "    <tr>\n",
              "      <th>0</th>\n",
              "      <td>0</td>\n",
              "      <td>0</td>\n",
              "      <td>115</td>\n",
              "      <td>5692</td>\n",
              "      <td>False</td>\n",
              "      <td>1</td>\n",
              "      <td>3</td>\n",
              "      <td>1</td>\n",
              "      <td>NaN</td>\n",
              "      <td>&lt;NA&gt;</td>\n",
              "    </tr>\n",
              "    <tr>\n",
              "      <th>1</th>\n",
              "      <td>1</td>\n",
              "      <td>56943</td>\n",
              "      <td>115</td>\n",
              "      <td>5716</td>\n",
              "      <td>False</td>\n",
              "      <td>2</td>\n",
              "      <td>2</td>\n",
              "      <td>1</td>\n",
              "      <td>37000.0</td>\n",
              "      <td>False</td>\n",
              "    </tr>\n",
              "    <tr>\n",
              "      <th>2</th>\n",
              "      <td>2</td>\n",
              "      <td>118363</td>\n",
              "      <td>115</td>\n",
              "      <td>128</td>\n",
              "      <td>False</td>\n",
              "      <td>0</td>\n",
              "      <td>0</td>\n",
              "      <td>1</td>\n",
              "      <td>55000.0</td>\n",
              "      <td>False</td>\n",
              "    </tr>\n",
              "    <tr>\n",
              "      <th>3</th>\n",
              "      <td>3</td>\n",
              "      <td>131167</td>\n",
              "      <td>115</td>\n",
              "      <td>7860</td>\n",
              "      <td>False</td>\n",
              "      <td>3</td>\n",
              "      <td>0</td>\n",
              "      <td>1</td>\n",
              "      <td>19000.0</td>\n",
              "      <td>False</td>\n",
              "    </tr>\n",
              "    <tr>\n",
              "      <th>4</th>\n",
              "      <td>4</td>\n",
              "      <td>137965</td>\n",
              "      <td>115</td>\n",
              "      <td>7922</td>\n",
              "      <td>False</td>\n",
              "      <td>4</td>\n",
              "      <td>1</td>\n",
              "      <td>1</td>\n",
              "      <td>11000.0</td>\n",
              "      <td>False</td>\n",
              "    </tr>\n",
              "  </tbody>\n",
              "</table>\n",
              "</div>"
            ],
            "text/plain": [
              "   row_id  ...  prior_question_had_explanation\n",
              "0       0  ...                            <NA>\n",
              "1       1  ...                           False\n",
              "2       2  ...                           False\n",
              "3       3  ...                           False\n",
              "4       4  ...                           False\n",
              "\n",
              "[5 rows x 10 columns]"
            ]
          },
          "metadata": {
            "tags": []
          },
          "execution_count": 5
        }
      ]
    },
    {
      "cell_type": "code",
      "metadata": {
        "id": "ts3LGr8QzNA7"
      },
      "source": [
        "from testutility import  col_header_val, stats"
      ],
      "execution_count": null,
      "outputs": []
    },
    {
      "cell_type": "code",
      "metadata": {
        "colab": {
          "base_uri": "https://localhost:8080/"
        },
        "id": "91XsKK2SDw9z",
        "outputId": "e89738bf-88e8-4cb2-b400-206c469e3577"
      },
      "source": [
        "if col_header_val(df, config_data) == 0:\n",
        "    print(\"Validation Failed!!\")\n",
        "else:\n",
        "    print(\"Column Validation Passed..\")"
      ],
      "execution_count": 24,
      "outputs": [
        {
          "output_type": "stream",
          "text": [
            "Column name and Column length Validation Passed!!\n",
            "Column Validation Passed..\n"
          ],
          "name": "stdout"
        }
      ]
    },
    {
      "cell_type": "code",
      "metadata": {
        "colab": {
          "base_uri": "https://localhost:8080/"
        },
        "id": "ZdI9X1Gwtyru",
        "outputId": "857abd49-2d07-4546-936a-41558b22813d"
      },
      "source": [
        "stats(df, config_data)"
      ],
      "execution_count": 46,
      "outputs": [
        {
          "output_type": "stream",
          "text": [
            "Column name and Column length Validation Passed!!\n",
            "\n",
            "No. of Columns: 10 \n",
            "No. of Rows: 101230332 \n",
            "Column Names: ['row_id', 'timestamp', 'user_id', 'content_id', 'content_type_id', 'task_container_id', 'user_answer', 'answered_correctly', 'prior_question_elapsed_time', 'prior_question_had_explanation'] \n",
            "File Size: 3.21 GB\n"
          ],
          "name": "stdout"
        }
      ]
    },
    {
      "cell_type": "code",
      "metadata": {
        "id": "PS53OTXsGICE"
      },
      "source": [
        ""
      ],
      "execution_count": null,
      "outputs": []
    }
  ]
}