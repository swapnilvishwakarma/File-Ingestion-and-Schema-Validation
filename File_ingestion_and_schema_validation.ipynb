{
  "nbformat": 4,
  "nbformat_minor": 0,
  "metadata": {
    "colab": {
      "name": "File ingestion and schema validation.ipynb",
      "provenance": [],
      "collapsed_sections": []
    },
    "kernelspec": {
      "name": "python3",
      "display_name": "Python 3"
    },
    "language_info": {
      "name": "python"
    }
  },
  "cells": [
    {
      "cell_type": "markdown",
      "metadata": {
        "id": "fT_C12EUoSyY"
      },
      "source": [
        "# PART 1"
      ]
    },
    {
      "cell_type": "markdown",
      "metadata": {
        "id": "GImDNJdg2VB4"
      },
      "source": [
        "# Download dataset and Import Libraries"
      ]
    },
    {
      "cell_type": "code",
      "metadata": {
        "colab": {
          "base_uri": "https://localhost:8080/"
        },
        "id": "x8dbc83y2Eop",
        "outputId": "8228dab1-0557-4214-a4f1-5680267242d6"
      },
      "source": [
        "import os\n",
        "os.environ['KAGGLE_USERNAME'] = \"swapnilvishwakarma\"\n",
        "os.environ['KAGGLE_KEY'] = \"38e76f67717501679b0aee4adb096c48\"\n",
        "!kaggle competitions download -c riiid-test-answer-prediction"
      ],
      "execution_count": 1,
      "outputs": [
        {
          "output_type": "stream",
          "text": [
            "Warning: Looks like you're using an outdated API Version, please consider updating (server 1.5.12 / client 1.5.4)\n",
            "Downloading competition.cpython-37m-x86_64-linux-gnu.so to /content\n",
            "  0% 0.00/445k [00:00<?, ?B/s]\n",
            "100% 445k/445k [00:00<00:00, 64.3MB/s]\n",
            "Downloading __init__.py to /content\n",
            "  0% 0.00/59.0 [00:00<?, ?B/s]\n",
            "100% 59.0/59.0 [00:00<00:00, 140kB/s]\n",
            "Downloading train.csv.zip to /content\n",
            "100% 1.29G/1.29G [00:16<00:00, 75.8MB/s]\n",
            "100% 1.29G/1.29G [00:16<00:00, 83.8MB/s]\n",
            "Downloading example_sample_submission.csv to /content\n",
            "  0% 0.00/971 [00:00<?, ?B/s]\n",
            "100% 971/971 [00:00<00:00, 915kB/s]\n",
            "Downloading questions.csv to /content\n",
            "  0% 0.00/289k [00:00<?, ?B/s]\n",
            "100% 289k/289k [00:00<00:00, 93.3MB/s]\n",
            "Downloading lectures.csv to /content\n",
            "  0% 0.00/9.48k [00:00<?, ?B/s]\n",
            "100% 9.48k/9.48k [00:00<00:00, 9.22MB/s]\n",
            "Downloading example_test.csv to /content\n",
            "  0% 0.00/5.99k [00:00<?, ?B/s]\n",
            "100% 5.99k/5.99k [00:00<00:00, 5.73MB/s]\n"
          ],
          "name": "stdout"
        }
      ]
    },
    {
      "cell_type": "code",
      "metadata": {
        "colab": {
          "base_uri": "https://localhost:8080/"
        },
        "id": "NF1jcdEX2hqd",
        "outputId": "57862e59-1b4c-43f3-89b2-5371a437cc07"
      },
      "source": [
        "from zipfile import ZipFile\n",
        "file_name = \"/content/train.csv.zip\"\n",
        "\n",
        "with ZipFile(file_name, 'r') as zip:\n",
        "  zip.extractall()\n",
        "  print('Done')"
      ],
      "execution_count": 2,
      "outputs": [
        {
          "output_type": "stream",
          "text": [
            "Done\n"
          ],
          "name": "stdout"
        }
      ]
    },
    {
      "cell_type": "code",
      "metadata": {
        "id": "moV8PeNO2jvy",
        "colab": {
          "base_uri": "https://localhost:8080/"
        },
        "outputId": "3787879f-de9a-405a-cc4b-9cb60d6adfa1"
      },
      "source": [
        "# !pip install dask[dataframe]\n",
        "# !pip install modin[all]\n",
        "# !pip install vaex\n",
        "# !pip install -U ipykernel\n",
        "# !pip install datatable"
      ],
      "execution_count": 3,
      "outputs": [
        {
          "output_type": "stream",
          "text": [
            "Collecting datatable\n",
            "\u001b[?25l  Downloading https://files.pythonhosted.org/packages/26/fc/d780b150eeae26e0a14b964f27eefcf9fad746f16e0b05c40098d84913d7/datatable-0.11.1-cp37-cp37m-manylinux2010_x86_64.whl (83.9MB)\n",
            "\u001b[K     |████████████████████████████████| 83.9MB 87kB/s \n",
            "\u001b[?25hInstalling collected packages: datatable\n",
            "Successfully installed datatable-0.11.1\n"
          ],
          "name": "stdout"
        }
      ]
    },
    {
      "cell_type": "code",
      "metadata": {
        "id": "QeLLtloQ3kd6"
      },
      "source": [
        "import os\n",
        "import time\n",
        "import dask.dataframe as dd\n",
        "import dask.array as da\n",
        "import pandas as pd\n",
        "import numpy as np\n",
        "import datatable as dt\n",
        "\n",
        "import warnings\n",
        "warnings.filterwarnings(action=\"ignore\")"
      ],
      "execution_count": 4,
      "outputs": []
    },
    {
      "cell_type": "markdown",
      "metadata": {
        "id": "CfwrBmD240G3"
      },
      "source": [
        "# How to handle this big dataset?\n",
        "* 1 - Deleting unused variables and gc.collect()\n",
        "* 2 - Presetting the datatypes\n",
        "* 3 - Importing selected rows of the a file (including generating your own subsamples)\n",
        "* 4 - Importing in batches and processing each individually\n",
        "* 5 - Importing just selected columns\n",
        "* 6 - Creative data processing"
      ]
    },
    {
      "cell_type": "code",
      "metadata": {
        "id": "KgxU_sNU4w69"
      },
      "source": [
        "## Presetting the datatypes\n",
        "# If you import data into CSV, python will do it's best to guess the datatypes, but it will tend to error on the side of allocating more space than necessary.\n",
        "# So if you know in advance that your numbers are integers, and don't get bigger than certain values, set the datatypes at minimum requirements before importing.\n",
        "\n",
        "dtypes = {\n",
        "    \"row_id\": \"int64\",\n",
        "    \"timestamp\": \"int64\",\n",
        "    \"user_id\": \"int32\",\n",
        "    \"content_id\": \"int16\",\n",
        "    \"content_type_id\": \"boolean\",\n",
        "    \"task_container_id\": \"int16\",\n",
        "    \"user_answer\": \"int8\",\n",
        "    \"answered_correctly\": \"int8\",\n",
        "    \"prior_question_elapsed_time\": \"float32\", \n",
        "    \"prior_question_had_explanation\": \"boolean\"\n",
        "}"
      ],
      "execution_count": 5,
      "outputs": []
    },
    {
      "cell_type": "markdown",
      "metadata": {
        "id": "MemfbRDSUBdW"
      },
      "source": [
        "# Read Comparison"
      ]
    },
    {
      "cell_type": "code",
      "metadata": {
        "id": "N9nVOFCB49lB"
      },
      "source": [
        "def read_time(method: str):\n",
        "  \"\"\"\n",
        "  A function that return the amount of time taken for a particular library to read the csv file\n",
        "  method: Pandas, Pandas_faster, Dask, Ray, Modin, Datatable\n",
        "  \"\"\"\n",
        "  method = method.capitalize()\n",
        "\n",
        "  if method == 'Pandas':\n",
        "    s = time.time()\n",
        "    df_pandas = pd.read_csv(\"/content/train.csv\", dtype=dtypes)\n",
        "    p_read = time.time() - s\n",
        "    print(f'Pandas Reading time: {p_read} s')\n",
        "    return df_pandas\n",
        "\n",
        "  elif method == 'Pandas_faster':\n",
        "    s = time.time()\n",
        "    df_pandas_faster = pd.read_csv(\"/content/train.csv\", dtype=dtypes, engine='c')\n",
        "    p_read_fast = time.time() - s\n",
        "    print(f'Pandas Reading time: {p_read_fast} s')\n",
        "    return df_pandas_faster\n",
        "\n",
        "  elif method == 'Dask':\n",
        "    s = time.time()\n",
        "    df_dask = dd.read_csv(\"/content/train.csv\", dtype=dtypes) \n",
        "    d_read = time.time() - s\n",
        "    print(f'Dask Reading time: {d_read} s')\n",
        "    return df_dask\n",
        "\n",
        "  elif method == 'Ray':\n",
        "    os.environ[\"MODIN_ENGINE\"] = \"ray\"  # Modin will use Ray\n",
        "    import modin.pandas as modin_ray\n",
        "    s = time.time()\n",
        "    df_modin_ray = modin_ray.read_csv(\"/content/train.csv\", dtype=dtypes)\n",
        "    r_read = time.time() - s\n",
        "    print(f'Ray Reading time: {r_read} s')\n",
        "    return df_modin_ray\n",
        "\n",
        "  elif method == 'Modin':\n",
        "    # os.environ[\"MODIN_ENGINE\"] = \"dask\"  # Modin will use Dask\n",
        "    import modin.pandas as md\n",
        "    s = time.time()\n",
        "    df_modin = md.read_csv(\"/content/train.csv\", dtype=dtypes)\n",
        "    m_read = time.time() - s\n",
        "    print(f'Modin Reading time: {m_read} s')\n",
        "    return df_modin\n",
        "\n",
        "  elif method == 'Datatable':\n",
        "    s = time.time()\n",
        "    df_datable = dt.fread(\"/content/train.csv\")\n",
        "    dt_read = time.time() - s\n",
        "    print(f'Datatable Reading time: {dt_read} s')\n",
        "    return df_datable\n",
        "\n",
        "  else:\n",
        "    print('Please specify any lib from the following:\\n1. Pandas\\n2. Dask\\n3. Ray\\n 4. Modin\\n5. Datatable\\n6. Pandas_faster')\n"
      ],
      "execution_count": 6,
      "outputs": []
    },
    {
      "cell_type": "code",
      "metadata": {
        "colab": {
          "base_uri": "https://localhost:8080/"
        },
        "id": "SwQC5G05CIEc",
        "outputId": "cc31e42b-90eb-4d0b-cb2f-0b737d53b2b9"
      },
      "source": [
        "df_pandas = read_time('pandas')"
      ],
      "execution_count": null,
      "outputs": [
        {
          "output_type": "stream",
          "text": [
            "Pandas Reading time: 229.8334002494812 s\n"
          ],
          "name": "stdout"
        }
      ]
    },
    {
      "cell_type": "code",
      "metadata": {
        "colab": {
          "base_uri": "https://localhost:8080/"
        },
        "id": "zlNYDGjRPPoV",
        "outputId": "8ad80098-3b37-4499-9185-6c2ca766b63c"
      },
      "source": [
        "df_pandas_faster = read_time('pandas_faster')"
      ],
      "execution_count": null,
      "outputs": [
        {
          "output_type": "stream",
          "text": [
            "Pandas Reading time: 229.99737286567688 s\n"
          ],
          "name": "stdout"
        }
      ]
    },
    {
      "cell_type": "code",
      "metadata": {
        "colab": {
          "base_uri": "https://localhost:8080/"
        },
        "id": "NklV9nClWDnf",
        "outputId": "4aaed100-4ad2-4f78-fdf1-26d8c08ce7f2"
      },
      "source": [
        "df_dask = read_time('dask')"
      ],
      "execution_count": null,
      "outputs": [
        {
          "output_type": "stream",
          "text": [
            "Dask Reading time: 0.1025397777557373 s\n"
          ],
          "name": "stdout"
        }
      ]
    },
    {
      "cell_type": "code",
      "metadata": {
        "colab": {
          "base_uri": "https://localhost:8080/"
        },
        "id": "cyUPQXQkCO0_",
        "outputId": "34ac19e4-4dc4-4592-a686-433500a27e82"
      },
      "source": [
        "df_modin_ray = read_time('ray')"
      ],
      "execution_count": null,
      "outputs": [
        {
          "output_type": "stream",
          "text": [
            "\u001b[2m\u001b[36m(pid=4827)\u001b[0m tcmalloc: large alloc 2923380736 bytes == 0x556d6daa2000 @  0x7f3bc74da1e7 0x556d6b2bbf48 0x556d6b2869c7 0x556d6b3683fe 0x556d6b289ee9 0x556d6b37b99d 0x556d6b2fdfe9 0x556d6b2f8b0e 0x556d6b1cae2b 0x556d6b2fb1e6 0x556d6b1cad14 0x7f3bc426b0ef 0x7f3bc4304756 0x7f3bc42730b3 0x7f3bc43c40c7 0x7f3bc43516a2 0x7f3bc43f88c8 0x7f3bc43540b2 0x7f3bc435210c 0x7f3bc48c1031 0x7f3bc48c1c89 0x7f3bc48c3fe7 0x7f3bc43d4718 0x7f3bc426e807 0x556d6b289f41 0x556d6b37b99d 0x556d6b2fdfe9 0x556d6b28b69a 0x556d6b2f9c9e 0x556d6b2f8b0e 0x556d6b2f8813\n",
            "\u001b[2m\u001b[36m(pid=4826)\u001b[0m tcmalloc: large alloc 2923380736 bytes == 0x5585314ac000 @  0x7f46485ee1e7 0x55852dffff48 0x55852dfca9c7 0x55852e0ac3fe 0x55852dfcdee9 0x55852e0bf99d 0x55852e041fe9 0x55852e03cb0e 0x55852df0ee2b 0x55852e03f1e6 0x55852df0ed14 0x7f464537f0ef 0x7f4645418756 0x7f46453870b3 0x7f46454d80c7 0x7f46454656a2 0x7f464550c8c8 0x7f46454680b2 0x7f464546610c 0x7f46459d5031 0x7f46459d5c89 0x7f46459d7fe7 0x7f46454e8718 0x7f4645382807 0x55852dfcdf41 0x55852e0bf99d 0x55852e041fe9 0x55852dfcf69a 0x55852e03dc9e 0x55852e03cb0e 0x55852e03c813\n"
          ],
          "name": "stderr"
        },
        {
          "output_type": "stream",
          "text": [
            "Ray Reading time: 313.34569215774536 s\n"
          ],
          "name": "stdout"
        }
      ]
    },
    {
      "cell_type": "code",
      "metadata": {
        "id": "hrQzN1stCQYq",
        "colab": {
          "base_uri": "https://localhost:8080/"
        },
        "outputId": "a82d0791-e6fa-4014-bb9e-2bd68ce3a4d9"
      },
      "source": [
        "df_modin = read_time('modin')"
      ],
      "execution_count": null,
      "outputs": [
        {
          "output_type": "stream",
          "text": [
            "\u001b[2m\u001b[36m(pid=6399)\u001b[0m tcmalloc: large alloc 2923380736 bytes == 0x5569785c6000 @  0x7f40877071e7 0x556975d4af48 0x556975d159c7 0x556975df73fe 0x556975d18ee9 0x556975e0a99d 0x556975d8cfe9 0x556975d87b0e 0x556975c59e2b 0x556975d8a1e6 0x556975c59d14 0x7f40844980ef 0x7f4084531756 0x7f40844a00b3 0x7f40845f10c7 0x7f408457e6a2 0x7f40846258c8 0x7f40845810b2 0x7f408457f10c 0x7f4084aee031 0x7f4084aeec89 0x7f4084af0fe7 0x7f4084601718 0x7f408449b807 0x556975d18f41 0x556975e0a99d 0x556975d8cfe9 0x556975d1a69a 0x556975d88c9e 0x556975d87b0e 0x556975d87813\n",
            "\u001b[2m\u001b[36m(pid=6400)\u001b[0m tcmalloc: large alloc 2923380736 bytes == 0x559efacbe000 @  0x7fc7a7ac01e7 0x559ef6a93f48 0x559ef6a5e9c7 0x559ef6b403fe 0x559ef6a61ee9 0x559ef6b5399d 0x559ef6ad5fe9 0x559ef6ad0b0e 0x559ef69a2e2b 0x559ef6ad31e6 0x559ef69a2d14 0x7fc7a48510ef 0x7fc7a48ea756 0x7fc7a48590b3 0x7fc7a49aa0c7 0x7fc7a49376a2 0x7fc7a49de8c8 0x7fc7a493a0b2 0x7fc7a493810c 0x7fc7a4ea7031 0x7fc7a4ea7c89 0x7fc7a4ea9fe7 0x7fc7a49ba718 0x7fc7a4854807 0x559ef6a61f41 0x559ef6b5399d 0x559ef6ad5fe9 0x559ef6a6369a 0x559ef6ad1c9e 0x559ef6ad0b0e 0x559ef6ad0813\n"
          ],
          "name": "stderr"
        },
        {
          "output_type": "stream",
          "text": [
            "Modin Reading time: 340.67354941368103 s\n"
          ],
          "name": "stdout"
        }
      ]
    },
    {
      "cell_type": "code",
      "metadata": {
        "id": "U-E1Aisn_ABe",
        "colab": {
          "base_uri": "https://localhost:8080/"
        },
        "outputId": "45c8527b-52d6-46d0-e92e-8cc0129e40c5"
      },
      "source": [
        "df_datable = read_time('datatable')"
      ],
      "execution_count": 7,
      "outputs": [
        {
          "output_type": "stream",
          "text": [
            "Datatable Reading time: 107.53213763237 s\n"
          ],
          "name": "stdout"
        }
      ]
    },
    {
      "cell_type": "code",
      "metadata": {
        "colab": {
          "base_uri": "https://localhost:8080/",
          "height": 425
        },
        "id": "nx14ATQXClCL",
        "outputId": "bd539aef-b101-42ea-c42e-0a9eb7ddd547"
      },
      "source": [
        "import matplotlib.pyplot as plt\n",
        "import seaborn as sns\n",
        "\n",
        "reading_time = [229.833, 229.99, 0.102, 313.345, 340.673, 107.832]\n",
        "reading_method = ['Pandas', \"Pandas(engine='c')\", 'Dask', 'Ray', 'Modin', 'Datatable']\n",
        "df_read = pd.DataFrame({\"Reading_Time\": reading_time, \"Reading_Method\": reading_method})\n",
        "\n",
        "plt.figure(figsize=(8, 6))\n",
        "splot = sns.barplot(x=\"Reading_Method\", y=\"Reading_Time\", data = df_read, order=df_read.sort_values('Reading_Time').Reading_Method)\n",
        "\n",
        "for p in splot.patches:\n",
        "    splot.annotate(format(p.get_height(), '.2f'), \n",
        "                   (p.get_x() + p.get_width() / 2., p.get_height()), \n",
        "                   ha = 'center', va = 'center', \n",
        "                   xytext = (0, 9), \n",
        "                   textcoords = 'offset points')\n",
        "plt.xlabel(\"Reading Method\", size=14)\n",
        "plt.ylabel(\"Reading Time (in seconds)\", size=14)\n",
        "plt.title('Reading Time Comparison')"
      ],
      "execution_count": null,
      "outputs": [
        {
          "output_type": "execute_result",
          "data": {
            "text/plain": [
              "Text(0.5, 1.0, 'Reading Time Comparison')"
            ]
          },
          "metadata": {
            "tags": []
          },
          "execution_count": 8
        },
        {
          "output_type": "display_data",
          "data": {
            "image/png": "[encoded data removed]",
            "text/plain": [
              "<Figure size 576x432 with 1 Axes>"
            ]
          },
          "metadata": {
            "tags": [],
            "needs_background": "light"
          }
        }
      ]
    },
    {
      "cell_type": "markdown",
      "metadata": {
        "id": "QY5UoQl1TOF3"
      },
      "source": [
        "### From the above figure it is clear that Dask is the fastest whereas normal Modin is the slowest to perform read operation!!!"
      ]
    },
    {
      "cell_type": "markdown",
      "metadata": {
        "id": "f2swh3A1UR3V"
      },
      "source": [
        "# Various Operations"
      ]
    },
    {
      "cell_type": "markdown",
      "metadata": {
        "id": "onnyk0fXMzF4"
      },
      "source": [
        "## Checking initial values"
      ]
    },
    {
      "cell_type": "code",
      "metadata": {
        "id": "caZC9BL0Vw4D",
        "colab": {
          "base_uri": "https://localhost:8080/",
          "height": 258
        },
        "outputId": "9f58c83e-8aea-4f84-aa95-89babd2a3295"
      },
      "source": [
        "%%time\n",
        "df_pandas.head()"
      ],
      "execution_count": null,
      "outputs": [
        {
          "output_type": "stream",
          "text": [
            "CPU times: user 672 µs, sys: 0 ns, total: 672 µs\n",
            "Wall time: 668 µs\n"
          ],
          "name": "stdout"
        },
        {
          "output_type": "execute_result",
          "data": {
            "text/html": [
              "<div>\n",
              "<style scoped>\n",
              "    .dataframe tbody tr th:only-of-type {\n",
              "        vertical-align: middle;\n",
              "    }\n",
              "\n",
              "    .dataframe tbody tr th {\n",
              "        vertical-align: top;\n",
              "    }\n",
              "\n",
              "    .dataframe thead th {\n",
              "        text-align: right;\n",
              "    }\n",
              "</style>\n",
              "<table border=\"1\" class=\"dataframe\">\n",
              "  <thead>\n",
              "    <tr style=\"text-align: right;\">\n",
              "      <th></th>\n",
              "      <th>row_id</th>\n",
              "      <th>timestamp</th>\n",
              "      <th>user_id</th>\n",
              "      <th>content_id</th>\n",
              "      <th>content_type_id</th>\n",
              "      <th>task_container_id</th>\n",
              "      <th>user_answer</th>\n",
              "      <th>answered_correctly</th>\n",
              "      <th>prior_question_elapsed_time</th>\n",
              "      <th>prior_question_had_explanation</th>\n",
              "    </tr>\n",
              "  </thead>\n",
              "  <tbody>\n",
              "    <tr>\n",
              "      <th>0</th>\n",
              "      <td>0</td>\n",
              "      <td>0</td>\n",
              "      <td>115</td>\n",
              "      <td>5692</td>\n",
              "      <td>False</td>\n",
              "      <td>1</td>\n",
              "      <td>3</td>\n",
              "      <td>1</td>\n",
              "      <td>NaN</td>\n",
              "      <td>&lt;NA&gt;</td>\n",
              "    </tr>\n",
              "    <tr>\n",
              "      <th>1</th>\n",
              "      <td>1</td>\n",
              "      <td>56943</td>\n",
              "      <td>115</td>\n",
              "      <td>5716</td>\n",
              "      <td>False</td>\n",
              "      <td>2</td>\n",
              "      <td>2</td>\n",
              "      <td>1</td>\n",
              "      <td>37000.0</td>\n",
              "      <td>False</td>\n",
              "    </tr>\n",
              "    <tr>\n",
              "      <th>2</th>\n",
              "      <td>2</td>\n",
              "      <td>118363</td>\n",
              "      <td>115</td>\n",
              "      <td>128</td>\n",
              "      <td>False</td>\n",
              "      <td>0</td>\n",
              "      <td>0</td>\n",
              "      <td>1</td>\n",
              "      <td>55000.0</td>\n",
              "      <td>False</td>\n",
              "    </tr>\n",
              "    <tr>\n",
              "      <th>3</th>\n",
              "      <td>3</td>\n",
              "      <td>131167</td>\n",
              "      <td>115</td>\n",
              "      <td>7860</td>\n",
              "      <td>False</td>\n",
              "      <td>3</td>\n",
              "      <td>0</td>\n",
              "      <td>1</td>\n",
              "      <td>19000.0</td>\n",
              "      <td>False</td>\n",
              "    </tr>\n",
              "    <tr>\n",
              "      <th>4</th>\n",
              "      <td>4</td>\n",
              "      <td>137965</td>\n",
              "      <td>115</td>\n",
              "      <td>7922</td>\n",
              "      <td>False</td>\n",
              "      <td>4</td>\n",
              "      <td>1</td>\n",
              "      <td>1</td>\n",
              "      <td>11000.0</td>\n",
              "      <td>False</td>\n",
              "    </tr>\n",
              "  </tbody>\n",
              "</table>\n",
              "</div>"
            ],
            "text/plain": [
              "   row_id  ...  prior_question_had_explanation\n",
              "0       0  ...                            <NA>\n",
              "1       1  ...                           False\n",
              "2       2  ...                           False\n",
              "3       3  ...                           False\n",
              "4       4  ...                           False\n",
              "\n",
              "[5 rows x 10 columns]"
            ]
          },
          "metadata": {
            "tags": []
          },
          "execution_count": 5
        }
      ]
    },
    {
      "cell_type": "code",
      "metadata": {
        "colab": {
          "base_uri": "https://localhost:8080/",
          "height": 258
        },
        "id": "IO7HTFwbMVgE",
        "outputId": "ed6668b1-3e65-467e-da87-dacfff6bdb7d"
      },
      "source": [
        "%%time\n",
        "df_dask.head()"
      ],
      "execution_count": null,
      "outputs": [
        {
          "output_type": "stream",
          "text": [
            "CPU times: user 2.55 s, sys: 117 ms, total: 2.67 s\n",
            "Wall time: 3.74 s\n"
          ],
          "name": "stdout"
        },
        {
          "output_type": "execute_result",
          "data": {
            "text/html": [
              "<div>\n",
              "<style scoped>\n",
              "    .dataframe tbody tr th:only-of-type {\n",
              "        vertical-align: middle;\n",
              "    }\n",
              "\n",
              "    .dataframe tbody tr th {\n",
              "        vertical-align: top;\n",
              "    }\n",
              "\n",
              "    .dataframe thead th {\n",
              "        text-align: right;\n",
              "    }\n",
              "</style>\n",
              "<table border=\"1\" class=\"dataframe\">\n",
              "  <thead>\n",
              "    <tr style=\"text-align: right;\">\n",
              "      <th></th>\n",
              "      <th>row_id</th>\n",
              "      <th>timestamp</th>\n",
              "      <th>user_id</th>\n",
              "      <th>content_id</th>\n",
              "      <th>content_type_id</th>\n",
              "      <th>task_container_id</th>\n",
              "      <th>user_answer</th>\n",
              "      <th>answered_correctly</th>\n",
              "      <th>prior_question_elapsed_time</th>\n",
              "      <th>prior_question_had_explanation</th>\n",
              "    </tr>\n",
              "  </thead>\n",
              "  <tbody>\n",
              "    <tr>\n",
              "      <th>0</th>\n",
              "      <td>0</td>\n",
              "      <td>0</td>\n",
              "      <td>115</td>\n",
              "      <td>5692</td>\n",
              "      <td>False</td>\n",
              "      <td>1</td>\n",
              "      <td>3</td>\n",
              "      <td>1</td>\n",
              "      <td>NaN</td>\n",
              "      <td>&lt;NA&gt;</td>\n",
              "    </tr>\n",
              "    <tr>\n",
              "      <th>1</th>\n",
              "      <td>1</td>\n",
              "      <td>56943</td>\n",
              "      <td>115</td>\n",
              "      <td>5716</td>\n",
              "      <td>False</td>\n",
              "      <td>2</td>\n",
              "      <td>2</td>\n",
              "      <td>1</td>\n",
              "      <td>37000.0</td>\n",
              "      <td>False</td>\n",
              "    </tr>\n",
              "    <tr>\n",
              "      <th>2</th>\n",
              "      <td>2</td>\n",
              "      <td>118363</td>\n",
              "      <td>115</td>\n",
              "      <td>128</td>\n",
              "      <td>False</td>\n",
              "      <td>0</td>\n",
              "      <td>0</td>\n",
              "      <td>1</td>\n",
              "      <td>55000.0</td>\n",
              "      <td>False</td>\n",
              "    </tr>\n",
              "    <tr>\n",
              "      <th>3</th>\n",
              "      <td>3</td>\n",
              "      <td>131167</td>\n",
              "      <td>115</td>\n",
              "      <td>7860</td>\n",
              "      <td>False</td>\n",
              "      <td>3</td>\n",
              "      <td>0</td>\n",
              "      <td>1</td>\n",
              "      <td>19000.0</td>\n",
              "      <td>False</td>\n",
              "    </tr>\n",
              "    <tr>\n",
              "      <th>4</th>\n",
              "      <td>4</td>\n",
              "      <td>137965</td>\n",
              "      <td>115</td>\n",
              "      <td>7922</td>\n",
              "      <td>False</td>\n",
              "      <td>4</td>\n",
              "      <td>1</td>\n",
              "      <td>1</td>\n",
              "      <td>11000.0</td>\n",
              "      <td>False</td>\n",
              "    </tr>\n",
              "  </tbody>\n",
              "</table>\n",
              "</div>"
            ],
            "text/plain": [
              "   row_id  ...  prior_question_had_explanation\n",
              "0       0  ...                            <NA>\n",
              "1       1  ...                           False\n",
              "2       2  ...                           False\n",
              "3       3  ...                           False\n",
              "4       4  ...                           False\n",
              "\n",
              "[5 rows x 10 columns]"
            ]
          },
          "metadata": {
            "tags": []
          },
          "execution_count": 7
        }
      ]
    },
    {
      "cell_type": "code",
      "metadata": {
        "colab": {
          "base_uri": "https://localhost:8080/",
          "height": 258
        },
        "id": "nZUxxliVhcmr",
        "outputId": "a3b9b5d1-8eb5-4ee5-bf3c-0cdc6f0a83f9"
      },
      "source": [
        "%%time\n",
        "df_modin_ray.head()"
      ],
      "execution_count": null,
      "outputs": [
        {
          "output_type": "stream",
          "text": [
            "CPU times: user 3.3 ms, sys: 388 µs, total: 3.69 ms\n",
            "Wall time: 8.82 ms\n"
          ],
          "name": "stdout"
        },
        {
          "output_type": "execute_result",
          "data": {
            "text/html": [
              "<div>\n",
              "<style scoped>\n",
              "    .dataframe tbody tr th:only-of-type {\n",
              "        vertical-align: middle;\n",
              "    }\n",
              "\n",
              "    .dataframe tbody tr th {\n",
              "        vertical-align: top;\n",
              "    }\n",
              "\n",
              "    .dataframe thead th {\n",
              "        text-align: right;\n",
              "    }\n",
              "</style>\n",
              "<table border=\"1\" class=\"dataframe\">\n",
              "  <thead>\n",
              "    <tr style=\"text-align: right;\">\n",
              "      <th></th>\n",
              "      <th>row_id</th>\n",
              "      <th>timestamp</th>\n",
              "      <th>user_id</th>\n",
              "      <th>content_id</th>\n",
              "      <th>content_type_id</th>\n",
              "      <th>task_container_id</th>\n",
              "      <th>user_answer</th>\n",
              "      <th>answered_correctly</th>\n",
              "      <th>prior_question_elapsed_time</th>\n",
              "      <th>prior_question_had_explanation</th>\n",
              "    </tr>\n",
              "  </thead>\n",
              "  <tbody>\n",
              "    <tr>\n",
              "      <th>0</th>\n",
              "      <td>0</td>\n",
              "      <td>0</td>\n",
              "      <td>115</td>\n",
              "      <td>5692</td>\n",
              "      <td>False</td>\n",
              "      <td>1</td>\n",
              "      <td>3</td>\n",
              "      <td>1</td>\n",
              "      <td>NaN</td>\n",
              "      <td>&lt;NA&gt;</td>\n",
              "    </tr>\n",
              "    <tr>\n",
              "      <th>1</th>\n",
              "      <td>1</td>\n",
              "      <td>56943</td>\n",
              "      <td>115</td>\n",
              "      <td>5716</td>\n",
              "      <td>False</td>\n",
              "      <td>2</td>\n",
              "      <td>2</td>\n",
              "      <td>1</td>\n",
              "      <td>37000.0</td>\n",
              "      <td>False</td>\n",
              "    </tr>\n",
              "    <tr>\n",
              "      <th>2</th>\n",
              "      <td>2</td>\n",
              "      <td>118363</td>\n",
              "      <td>115</td>\n",
              "      <td>128</td>\n",
              "      <td>False</td>\n",
              "      <td>0</td>\n",
              "      <td>0</td>\n",
              "      <td>1</td>\n",
              "      <td>55000.0</td>\n",
              "      <td>False</td>\n",
              "    </tr>\n",
              "    <tr>\n",
              "      <th>3</th>\n",
              "      <td>3</td>\n",
              "      <td>131167</td>\n",
              "      <td>115</td>\n",
              "      <td>7860</td>\n",
              "      <td>False</td>\n",
              "      <td>3</td>\n",
              "      <td>0</td>\n",
              "      <td>1</td>\n",
              "      <td>19000.0</td>\n",
              "      <td>False</td>\n",
              "    </tr>\n",
              "    <tr>\n",
              "      <th>4</th>\n",
              "      <td>4</td>\n",
              "      <td>137965</td>\n",
              "      <td>115</td>\n",
              "      <td>7922</td>\n",
              "      <td>False</td>\n",
              "      <td>4</td>\n",
              "      <td>1</td>\n",
              "      <td>1</td>\n",
              "      <td>11000.0</td>\n",
              "      <td>False</td>\n",
              "    </tr>\n",
              "  </tbody>\n",
              "</table>\n",
              "</div>"
            ],
            "text/plain": [
              "   row_id  ...  prior_question_had_explanation\n",
              "0       0  ...                            <NA>\n",
              "1       1  ...                           False\n",
              "2       2  ...                           False\n",
              "3       3  ...                           False\n",
              "4       4  ...                           False\n",
              "\n",
              "[5 rows x 10 columns]"
            ]
          },
          "metadata": {
            "tags": []
          },
          "execution_count": 6
        }
      ]
    },
    {
      "cell_type": "code",
      "metadata": {
        "colab": {
          "base_uri": "https://localhost:8080/",
          "height": 258
        },
        "id": "s0S_3vtZlHlu",
        "outputId": "a6cfcf59-4a48-4fce-bfcc-4acb677d2d8a"
      },
      "source": [
        "%%time\n",
        "df_modin.head()"
      ],
      "execution_count": null,
      "outputs": [
        {
          "output_type": "stream",
          "text": [
            "CPU times: user 4.27 ms, sys: 42 µs, total: 4.31 ms\n",
            "Wall time: 12.1 ms\n"
          ],
          "name": "stdout"
        },
        {
          "output_type": "execute_result",
          "data": {
            "text/html": [
              "<div>\n",
              "<style scoped>\n",
              "    .dataframe tbody tr th:only-of-type {\n",
              "        vertical-align: middle;\n",
              "    }\n",
              "\n",
              "    .dataframe tbody tr th {\n",
              "        vertical-align: top;\n",
              "    }\n",
              "\n",
              "    .dataframe thead th {\n",
              "        text-align: right;\n",
              "    }\n",
              "</style>\n",
              "<table border=\"1\" class=\"dataframe\">\n",
              "  <thead>\n",
              "    <tr style=\"text-align: right;\">\n",
              "      <th></th>\n",
              "      <th>row_id</th>\n",
              "      <th>timestamp</th>\n",
              "      <th>user_id</th>\n",
              "      <th>content_id</th>\n",
              "      <th>content_type_id</th>\n",
              "      <th>task_container_id</th>\n",
              "      <th>user_answer</th>\n",
              "      <th>answered_correctly</th>\n",
              "      <th>prior_question_elapsed_time</th>\n",
              "      <th>prior_question_had_explanation</th>\n",
              "    </tr>\n",
              "  </thead>\n",
              "  <tbody>\n",
              "    <tr>\n",
              "      <th>0</th>\n",
              "      <td>0</td>\n",
              "      <td>0</td>\n",
              "      <td>115</td>\n",
              "      <td>5692</td>\n",
              "      <td>False</td>\n",
              "      <td>1</td>\n",
              "      <td>3</td>\n",
              "      <td>1</td>\n",
              "      <td>NaN</td>\n",
              "      <td>&lt;NA&gt;</td>\n",
              "    </tr>\n",
              "    <tr>\n",
              "      <th>1</th>\n",
              "      <td>1</td>\n",
              "      <td>56943</td>\n",
              "      <td>115</td>\n",
              "      <td>5716</td>\n",
              "      <td>False</td>\n",
              "      <td>2</td>\n",
              "      <td>2</td>\n",
              "      <td>1</td>\n",
              "      <td>37000.0</td>\n",
              "      <td>False</td>\n",
              "    </tr>\n",
              "    <tr>\n",
              "      <th>2</th>\n",
              "      <td>2</td>\n",
              "      <td>118363</td>\n",
              "      <td>115</td>\n",
              "      <td>128</td>\n",
              "      <td>False</td>\n",
              "      <td>0</td>\n",
              "      <td>0</td>\n",
              "      <td>1</td>\n",
              "      <td>55000.0</td>\n",
              "      <td>False</td>\n",
              "    </tr>\n",
              "    <tr>\n",
              "      <th>3</th>\n",
              "      <td>3</td>\n",
              "      <td>131167</td>\n",
              "      <td>115</td>\n",
              "      <td>7860</td>\n",
              "      <td>False</td>\n",
              "      <td>3</td>\n",
              "      <td>0</td>\n",
              "      <td>1</td>\n",
              "      <td>19000.0</td>\n",
              "      <td>False</td>\n",
              "    </tr>\n",
              "    <tr>\n",
              "      <th>4</th>\n",
              "      <td>4</td>\n",
              "      <td>137965</td>\n",
              "      <td>115</td>\n",
              "      <td>7922</td>\n",
              "      <td>False</td>\n",
              "      <td>4</td>\n",
              "      <td>1</td>\n",
              "      <td>1</td>\n",
              "      <td>11000.0</td>\n",
              "      <td>False</td>\n",
              "    </tr>\n",
              "  </tbody>\n",
              "</table>\n",
              "</div>"
            ],
            "text/plain": [
              "   row_id  ...  prior_question_had_explanation\n",
              "0       0  ...                            <NA>\n",
              "1       1  ...                           False\n",
              "2       2  ...                           False\n",
              "3       3  ...                           False\n",
              "4       4  ...                           False\n",
              "\n",
              "[5 rows x 10 columns]"
            ]
          },
          "metadata": {
            "tags": []
          },
          "execution_count": 7
        }
      ]
    },
    {
      "cell_type": "code",
      "metadata": {
        "colab": {
          "base_uri": "https://localhost:8080/",
          "height": 560
        },
        "id": "vdxEl0BnKpZp",
        "outputId": "92783e18-d69e-4467-d70b-6879ed1791f3"
      },
      "source": [
        "%%time\n",
        "df_datable.head()"
      ],
      "execution_count": null,
      "outputs": [
        {
          "output_type": "stream",
          "text": [
            "CPU times: user 0 ns, sys: 592 µs, total: 592 µs\n",
            "Wall time: 7.72 ms\n",
            "   | row_id  timestamp  user_id  content_id  content_type_id  task_container_id  user_answer  answered_correctly    pr…  …\n",
            "-- + ------  ---------  -------  ----------  ---------------  -----------------  -----------  ------------------  -----   \n",
            " 0 |      0          0      115        5692                0                  1            3                   1     NA  …\n",
            " 1 |      1      56943      115        5716                0                  2            2                   1  37000  …\n",
            " 2 |      2     118363      115         128                0                  0            0                   1  55000  …\n",
            " 3 |      3     131167      115        7860                0                  3            0                   1  19000  …\n",
            " 4 |      4     137965      115        7922                0                  4            1                   1  11000  …\n",
            " 5 |      5     157063      115         156                0                  5            2                   1   5000  …\n",
            " 6 |      6     176092      115          51                0                  6            0                   1  17000  …\n",
            " 7 |      7     194190      115          50                0                  7            3                   1  17000  …\n",
            " 8 |      8     212463      115        7896                0                  8            2                   1  16000  …\n",
            " 9 |      9     230983      115        7863                0                  9            0                   1  16000  …\n",
            "\n",
            "[10 rows x 10 columns]\n"
          ],
          "name": "stdout"
        },
        {
          "output_type": "execute_result",
          "data": {
            "text/html": [
              "<div class='datatable'>\n",
              "  <table class='frame'>\n",
              "  <thead>\n",
              "    <tr class='colnames'><td class='row_index'></td><th>row_id</th><th>timestamp</th><th>user_id</th><th>content_id</th><th>content_type_id</th><th>task_container_id</th><th>user_answer</th><th>answered_correctly</th><th>prior_question_elapsed_time</th><th>prior_question_had_explanation</th></tr>\n",
              "    <tr class='coltypes'><td class='row_index'></td><td class='int' title='int32'>&#x25AA;&#x25AA;&#x25AA;&#x25AA;</td><td class='int' title='int64'>&#x25AA;&#x25AA;&#x25AA;&#x25AA;&#x25AA;&#x25AA;&#x25AA;&#x25AA;</td><td class='int' title='int32'>&#x25AA;&#x25AA;&#x25AA;&#x25AA;</td><td class='int' title='int32'>&#x25AA;&#x25AA;&#x25AA;&#x25AA;</td><td class='bool' title='bool8'>&#x25AA;</td><td class='int' title='int32'>&#x25AA;&#x25AA;&#x25AA;&#x25AA;</td><td class='int' title='int32'>&#x25AA;&#x25AA;&#x25AA;&#x25AA;</td><td class='int' title='int32'>&#x25AA;&#x25AA;&#x25AA;&#x25AA;</td><td class='float' title='float64'>&#x25AA;&#x25AA;&#x25AA;&#x25AA;&#x25AA;&#x25AA;&#x25AA;&#x25AA;</td><td class='bool' title='bool8'>&#x25AA;</td></tr>\n",
              "  </thead>\n",
              "  <tbody>\n",
              "    <tr><td class='row_index'>0</td><td>0</td><td>0</td><td>115</td><td>5692</td><td>0</td><td>1</td><td>3</td><td>1</td><td><span class=na>NA</span></td><td><span class=na>NA</span></td></tr>\n",
              "    <tr><td class='row_index'>1</td><td>1</td><td>56943</td><td>115</td><td>5716</td><td>0</td><td>2</td><td>2</td><td>1</td><td>37000</td><td>0</td></tr>\n",
              "    <tr><td class='row_index'>2</td><td>2</td><td>118363</td><td>115</td><td>128</td><td>0</td><td>0</td><td>0</td><td>1</td><td>55000</td><td>0</td></tr>\n",
              "    <tr><td class='row_index'>3</td><td>3</td><td>131167</td><td>115</td><td>7860</td><td>0</td><td>3</td><td>0</td><td>1</td><td>19000</td><td>0</td></tr>\n",
              "    <tr><td class='row_index'>4</td><td>4</td><td>137965</td><td>115</td><td>7922</td><td>0</td><td>4</td><td>1</td><td>1</td><td>11000</td><td>0</td></tr>\n",
              "    <tr><td class='row_index'>5</td><td>5</td><td>157063</td><td>115</td><td>156</td><td>0</td><td>5</td><td>2</td><td>1</td><td>5000</td><td>0</td></tr>\n",
              "    <tr><td class='row_index'>6</td><td>6</td><td>176092</td><td>115</td><td>51</td><td>0</td><td>6</td><td>0</td><td>1</td><td>17000</td><td>0</td></tr>\n",
              "    <tr><td class='row_index'>7</td><td>7</td><td>194190</td><td>115</td><td>50</td><td>0</td><td>7</td><td>3</td><td>1</td><td>17000</td><td>0</td></tr>\n",
              "    <tr><td class='row_index'>8</td><td>8</td><td>212463</td><td>115</td><td>7896</td><td>0</td><td>8</td><td>2</td><td>1</td><td>16000</td><td>0</td></tr>\n",
              "    <tr><td class='row_index'>9</td><td>9</td><td>230983</td><td>115</td><td>7863</td><td>0</td><td>9</td><td>0</td><td>1</td><td>16000</td><td>0</td></tr>\n",
              "  </tbody>\n",
              "  </table>\n",
              "  <div class='footer'>\n",
              "    <div class='frame_dimensions'>10 rows &times; 10 columns</div>\n",
              "  </div>\n",
              "</div>\n"
            ],
            "text/plain": [
              ""
            ]
          },
          "metadata": {
            "tags": []
          },
          "execution_count": 5
        }
      ]
    },
    {
      "cell_type": "markdown",
      "metadata": {
        "id": "1l1XMe4y6q-P"
      },
      "source": [
        "## After reading the file as a datatable, it can be converted into pandas dataframe easily for further analysis and manipulation!\n",
        "\n",
        "## Conversion can be achieved as follows:\n",
        "## dt_to_pandas = df_datatable.to_pandas()"
      ]
    },
    {
      "cell_type": "markdown",
      "metadata": {
        "id": "b4jUTY9VAX_j"
      },
      "source": [
        "## Pandas is the faster to check few initial values as the dataframe is stored in RAM hence it is very quick to access!"
      ]
    },
    {
      "cell_type": "markdown",
      "metadata": {
        "id": "FNG37UNDNDE-"
      },
      "source": [
        "## Checking dtypes"
      ]
    },
    {
      "cell_type": "code",
      "metadata": {
        "colab": {
          "base_uri": "https://localhost:8080/"
        },
        "id": "ceVSjk1ANLSB",
        "outputId": "94343088-1745-49b2-f90c-5c75f4c5e6b5"
      },
      "source": [
        "%%time\n",
        "df_pandas.dtypes"
      ],
      "execution_count": null,
      "outputs": [
        {
          "output_type": "stream",
          "text": [
            "CPU times: user 574 µs, sys: 35 µs, total: 609 µs\n",
            "Wall time: 619 µs\n"
          ],
          "name": "stdout"
        },
        {
          "output_type": "execute_result",
          "data": {
            "text/plain": [
              "row_id                              int64\n",
              "timestamp                           int64\n",
              "user_id                             int32\n",
              "content_id                          int16\n",
              "content_type_id                   boolean\n",
              "task_container_id                   int16\n",
              "user_answer                          int8\n",
              "answered_correctly                   int8\n",
              "prior_question_elapsed_time       float32\n",
              "prior_question_had_explanation    boolean\n",
              "dtype: object"
            ]
          },
          "metadata": {
            "tags": []
          },
          "execution_count": 6
        }
      ]
    },
    {
      "cell_type": "code",
      "metadata": {
        "colab": {
          "base_uri": "https://localhost:8080/"
        },
        "id": "qsdn8YBpNOjK",
        "outputId": "a3aa819f-1ffc-45e9-ec51-3b3476cce487"
      },
      "source": [
        "%%time\n",
        "df_dask.dtypes"
      ],
      "execution_count": null,
      "outputs": [
        {
          "output_type": "stream",
          "text": [
            "CPU times: user 496 µs, sys: 0 ns, total: 496 µs\n",
            "Wall time: 507 µs\n"
          ],
          "name": "stdout"
        },
        {
          "output_type": "execute_result",
          "data": {
            "text/plain": [
              "row_id                              int64\n",
              "timestamp                           int64\n",
              "user_id                             int32\n",
              "content_id                          int16\n",
              "content_type_id                   boolean\n",
              "task_container_id                   int16\n",
              "user_answer                          int8\n",
              "answered_correctly                   int8\n",
              "prior_question_elapsed_time       float32\n",
              "prior_question_had_explanation    boolean\n",
              "dtype: object"
            ]
          },
          "metadata": {
            "tags": []
          },
          "execution_count": 11
        }
      ]
    },
    {
      "cell_type": "code",
      "metadata": {
        "colab": {
          "base_uri": "https://localhost:8080/"
        },
        "id": "H_7Wk8ARhzje",
        "outputId": "1870ac3a-cbdf-4330-c07c-cfc8b917f7bf"
      },
      "source": [
        "%%time\n",
        "df_modin_ray.dtypes"
      ],
      "execution_count": null,
      "outputs": [
        {
          "output_type": "stream",
          "text": [
            "CPU times: user 44 µs, sys: 0 ns, total: 44 µs\n",
            "Wall time: 48.6 µs\n"
          ],
          "name": "stdout"
        },
        {
          "output_type": "execute_result",
          "data": {
            "text/plain": [
              "row_id                              int64\n",
              "timestamp                           int64\n",
              "user_id                             int32\n",
              "content_id                          int16\n",
              "content_type_id                   boolean\n",
              "task_container_id                   int16\n",
              "user_answer                          int8\n",
              "answered_correctly                   int8\n",
              "prior_question_elapsed_time       float32\n",
              "prior_question_had_explanation    boolean\n",
              "dtype: object"
            ]
          },
          "metadata": {
            "tags": []
          },
          "execution_count": 8
        }
      ]
    },
    {
      "cell_type": "code",
      "metadata": {
        "colab": {
          "base_uri": "https://localhost:8080/"
        },
        "id": "VO8gKLxylKTK",
        "outputId": "5c74e7f1-81e0-470f-d7a3-6500bc566a50"
      },
      "source": [
        "%%time\n",
        "df_modin.dtypes"
      ],
      "execution_count": null,
      "outputs": [
        {
          "output_type": "stream",
          "text": [
            "CPU times: user 17 µs, sys: 6 µs, total: 23 µs\n",
            "Wall time: 26 µs\n"
          ],
          "name": "stdout"
        },
        {
          "output_type": "execute_result",
          "data": {
            "text/plain": [
              "row_id                              int64\n",
              "timestamp                           int64\n",
              "user_id                             int32\n",
              "content_id                          int16\n",
              "content_type_id                   boolean\n",
              "task_container_id                   int16\n",
              "user_answer                          int8\n",
              "answered_correctly                   int8\n",
              "prior_question_elapsed_time       float32\n",
              "prior_question_had_explanation    boolean\n",
              "dtype: object"
            ]
          },
          "metadata": {
            "tags": []
          },
          "execution_count": 8
        }
      ]
    },
    {
      "cell_type": "code",
      "metadata": {
        "colab": {
          "base_uri": "https://localhost:8080/"
        },
        "id": "blpY8US8NRuM",
        "outputId": "1f12dd3a-1ced-4ae8-dfde-1f487126051a"
      },
      "source": [
        "%%time\n",
        "df_datable.stypes"
      ],
      "execution_count": 12,
      "outputs": [
        {
          "output_type": "stream",
          "text": [
            "CPU times: user 122 µs, sys: 24 µs, total: 146 µs\n",
            "Wall time: 169 µs\n"
          ],
          "name": "stdout"
        },
        {
          "output_type": "execute_result",
          "data": {
            "text/plain": [
              "(stype.int32,\n",
              " stype.int64,\n",
              " stype.int32,\n",
              " stype.int32,\n",
              " stype.bool8,\n",
              " stype.int32,\n",
              " stype.int32,\n",
              " stype.int32,\n",
              " stype.float64,\n",
              " stype.bool8)"
            ]
          },
          "metadata": {
            "tags": []
          },
          "execution_count": 12
        }
      ]
    },
    {
      "cell_type": "markdown",
      "metadata": {
        "id": "wYK411Y_AvuN"
      },
      "source": [
        "## Modin is the fastest to check the datatypes of each columns!"
      ]
    },
    {
      "cell_type": "markdown",
      "metadata": {
        "id": "7ws7pl2SNUdR"
      },
      "source": [
        "## Describe"
      ]
    },
    {
      "cell_type": "code",
      "metadata": {
        "colab": {
          "base_uri": "https://localhost:8080/",
          "height": 331
        },
        "id": "SrZth0GnNWo4",
        "outputId": "9af3e286-99d7-4062-cce8-93592dbff4c1"
      },
      "source": [
        "%%time\n",
        "df_pandas.describe()"
      ],
      "execution_count": null,
      "outputs": [
        {
          "output_type": "stream",
          "text": [
            "CPU times: user 17.9 s, sys: 3.12 s, total: 21 s\n",
            "Wall time: 21 s\n"
          ],
          "name": "stdout"
        },
        {
          "output_type": "execute_result",
          "data": {
            "text/html": [
              "<div>\n",
              "<style scoped>\n",
              "    .dataframe tbody tr th:only-of-type {\n",
              "        vertical-align: middle;\n",
              "    }\n",
              "\n",
              "    .dataframe tbody tr th {\n",
              "        vertical-align: top;\n",
              "    }\n",
              "\n",
              "    .dataframe thead th {\n",
              "        text-align: right;\n",
              "    }\n",
              "</style>\n",
              "<table border=\"1\" class=\"dataframe\">\n",
              "  <thead>\n",
              "    <tr style=\"text-align: right;\">\n",
              "      <th></th>\n",
              "      <th>row_id</th>\n",
              "      <th>timestamp</th>\n",
              "      <th>user_id</th>\n",
              "      <th>content_id</th>\n",
              "      <th>task_container_id</th>\n",
              "      <th>user_answer</th>\n",
              "      <th>answered_correctly</th>\n",
              "      <th>prior_question_elapsed_time</th>\n",
              "    </tr>\n",
              "  </thead>\n",
              "  <tbody>\n",
              "    <tr>\n",
              "      <th>count</th>\n",
              "      <td>1.012303e+08</td>\n",
              "      <td>1.012303e+08</td>\n",
              "      <td>1.012303e+08</td>\n",
              "      <td>1.012303e+08</td>\n",
              "      <td>1.012303e+08</td>\n",
              "      <td>1.012303e+08</td>\n",
              "      <td>1.012303e+08</td>\n",
              "      <td>9.887879e+07</td>\n",
              "    </tr>\n",
              "    <tr>\n",
              "      <th>mean</th>\n",
              "      <td>5.061517e+07</td>\n",
              "      <td>7.703644e+09</td>\n",
              "      <td>1.076732e+09</td>\n",
              "      <td>5.219605e+03</td>\n",
              "      <td>9.040624e+02</td>\n",
              "      <td>1.376123e+00</td>\n",
              "      <td>6.251644e-01</td>\n",
              "      <td>1.300508e+04</td>\n",
              "    </tr>\n",
              "    <tr>\n",
              "      <th>std</th>\n",
              "      <td>2.922268e+07</td>\n",
              "      <td>1.159266e+10</td>\n",
              "      <td>6.197163e+08</td>\n",
              "      <td>3.866359e+03</td>\n",
              "      <td>1.358302e+03</td>\n",
              "      <td>1.192896e+00</td>\n",
              "      <td>5.225307e-01</td>\n",
              "      <td>2.122839e+04</td>\n",
              "    </tr>\n",
              "    <tr>\n",
              "      <th>min</th>\n",
              "      <td>0.000000e+00</td>\n",
              "      <td>0.000000e+00</td>\n",
              "      <td>1.150000e+02</td>\n",
              "      <td>0.000000e+00</td>\n",
              "      <td>0.000000e+00</td>\n",
              "      <td>-1.000000e+00</td>\n",
              "      <td>-1.000000e+00</td>\n",
              "      <td>0.000000e+00</td>\n",
              "    </tr>\n",
              "    <tr>\n",
              "      <th>25%</th>\n",
              "      <td>2.530758e+07</td>\n",
              "      <td>5.243436e+08</td>\n",
              "      <td>5.408116e+08</td>\n",
              "      <td>2.063000e+03</td>\n",
              "      <td>1.040000e+02</td>\n",
              "      <td>0.000000e+00</td>\n",
              "      <td>0.000000e+00</td>\n",
              "      <td>1.600000e+04</td>\n",
              "    </tr>\n",
              "    <tr>\n",
              "      <th>50%</th>\n",
              "      <td>5.061517e+07</td>\n",
              "      <td>2.674234e+09</td>\n",
              "      <td>1.071781e+09</td>\n",
              "      <td>5.026000e+03</td>\n",
              "      <td>3.820000e+02</td>\n",
              "      <td>1.000000e+00</td>\n",
              "      <td>1.000000e+00</td>\n",
              "      <td>2.100000e+04</td>\n",
              "    </tr>\n",
              "    <tr>\n",
              "      <th>75%</th>\n",
              "      <td>7.592275e+07</td>\n",
              "      <td>9.924551e+09</td>\n",
              "      <td>1.615742e+09</td>\n",
              "      <td>7.425000e+03</td>\n",
              "      <td>1.094000e+03</td>\n",
              "      <td>3.000000e+00</td>\n",
              "      <td>1.000000e+00</td>\n",
              "      <td>2.966600e+04</td>\n",
              "    </tr>\n",
              "    <tr>\n",
              "      <th>max</th>\n",
              "      <td>1.012303e+08</td>\n",
              "      <td>8.742577e+10</td>\n",
              "      <td>2.147483e+09</td>\n",
              "      <td>3.273600e+04</td>\n",
              "      <td>9.999000e+03</td>\n",
              "      <td>3.000000e+00</td>\n",
              "      <td>1.000000e+00</td>\n",
              "      <td>3.000000e+05</td>\n",
              "    </tr>\n",
              "  </tbody>\n",
              "</table>\n",
              "</div>"
            ],
            "text/plain": [
              "             row_id  ...  prior_question_elapsed_time\n",
              "count  1.012303e+08  ...                 9.887879e+07\n",
              "mean   5.061517e+07  ...                 1.300508e+04\n",
              "std    2.922268e+07  ...                 2.122839e+04\n",
              "min    0.000000e+00  ...                 0.000000e+00\n",
              "25%    2.530758e+07  ...                 1.600000e+04\n",
              "50%    5.061517e+07  ...                 2.100000e+04\n",
              "75%    7.592275e+07  ...                 2.966600e+04\n",
              "max    1.012303e+08  ...                 3.000000e+05\n",
              "\n",
              "[8 rows x 8 columns]"
            ]
          },
          "metadata": {
            "tags": []
          },
          "execution_count": 7
        }
      ]
    },
    {
      "cell_type": "code",
      "metadata": {
        "colab": {
          "base_uri": "https://localhost:8080/",
          "height": 331
        },
        "id": "GTOrEZnGNY6x",
        "outputId": "831d20e8-6636-470b-925a-aed063a3a991"
      },
      "source": [
        "%%time\n",
        "df_dask.describe().compute()"
      ],
      "execution_count": null,
      "outputs": [
        {
          "output_type": "stream",
          "text": [
            "CPU times: user 5min 10s, sys: 7.8 s, total: 5min 17s\n",
            "Wall time: 5min 27s\n"
          ],
          "name": "stdout"
        },
        {
          "output_type": "execute_result",
          "data": {
            "text/html": [
              "<div>\n",
              "<style scoped>\n",
              "    .dataframe tbody tr th:only-of-type {\n",
              "        vertical-align: middle;\n",
              "    }\n",
              "\n",
              "    .dataframe tbody tr th {\n",
              "        vertical-align: top;\n",
              "    }\n",
              "\n",
              "    .dataframe thead th {\n",
              "        text-align: right;\n",
              "    }\n",
              "</style>\n",
              "<table border=\"1\" class=\"dataframe\">\n",
              "  <thead>\n",
              "    <tr style=\"text-align: right;\">\n",
              "      <th></th>\n",
              "      <th>row_id</th>\n",
              "      <th>timestamp</th>\n",
              "      <th>user_id</th>\n",
              "      <th>content_id</th>\n",
              "      <th>task_container_id</th>\n",
              "      <th>user_answer</th>\n",
              "      <th>answered_correctly</th>\n",
              "      <th>prior_question_elapsed_time</th>\n",
              "    </tr>\n",
              "  </thead>\n",
              "  <tbody>\n",
              "    <tr>\n",
              "      <th>count</th>\n",
              "      <td>1.012303e+08</td>\n",
              "      <td>1.012303e+08</td>\n",
              "      <td>1.012303e+08</td>\n",
              "      <td>1.012303e+08</td>\n",
              "      <td>1.012303e+08</td>\n",
              "      <td>1.012303e+08</td>\n",
              "      <td>1.012303e+08</td>\n",
              "      <td>9.887879e+07</td>\n",
              "    </tr>\n",
              "    <tr>\n",
              "      <th>mean</th>\n",
              "      <td>5.061517e+07</td>\n",
              "      <td>7.703644e+09</td>\n",
              "      <td>1.076732e+09</td>\n",
              "      <td>5.219605e+03</td>\n",
              "      <td>9.040624e+02</td>\n",
              "      <td>1.376123e+00</td>\n",
              "      <td>6.251644e-01</td>\n",
              "      <td>2.542381e+04</td>\n",
              "    </tr>\n",
              "    <tr>\n",
              "      <th>std</th>\n",
              "      <td>2.922268e+07</td>\n",
              "      <td>1.159266e+10</td>\n",
              "      <td>6.197163e+08</td>\n",
              "      <td>3.866359e+03</td>\n",
              "      <td>1.358302e+03</td>\n",
              "      <td>1.192896e+00</td>\n",
              "      <td>5.225307e-01</td>\n",
              "      <td>1.994815e+04</td>\n",
              "    </tr>\n",
              "    <tr>\n",
              "      <th>min</th>\n",
              "      <td>0.000000e+00</td>\n",
              "      <td>0.000000e+00</td>\n",
              "      <td>1.150000e+02</td>\n",
              "      <td>0.000000e+00</td>\n",
              "      <td>0.000000e+00</td>\n",
              "      <td>-1.000000e+00</td>\n",
              "      <td>-1.000000e+00</td>\n",
              "      <td>0.000000e+00</td>\n",
              "    </tr>\n",
              "    <tr>\n",
              "      <th>25%</th>\n",
              "      <td>3.319773e+07</td>\n",
              "      <td>6.838659e+08</td>\n",
              "      <td>7.113886e+08</td>\n",
              "      <td>2.196000e+03</td>\n",
              "      <td>1.240000e+02</td>\n",
              "      <td>0.000000e+00</td>\n",
              "      <td>0.000000e+00</td>\n",
              "      <td>1.600000e+04</td>\n",
              "    </tr>\n",
              "    <tr>\n",
              "      <th>50%</th>\n",
              "      <td>6.714752e+07</td>\n",
              "      <td>3.620885e+09</td>\n",
              "      <td>1.427710e+09</td>\n",
              "      <td>5.190000e+03</td>\n",
              "      <td>4.790000e+02</td>\n",
              "      <td>1.000000e+00</td>\n",
              "      <td>1.000000e+00</td>\n",
              "      <td>2.100000e+04</td>\n",
              "    </tr>\n",
              "    <tr>\n",
              "      <th>75%</th>\n",
              "      <td>1.011347e+08</td>\n",
              "      <td>1.265219e+10</td>\n",
              "      <td>2.145836e+09</td>\n",
              "      <td>7.713000e+03</td>\n",
              "      <td>1.498000e+03</td>\n",
              "      <td>3.000000e+00</td>\n",
              "      <td>1.000000e+00</td>\n",
              "      <td>3.050000e+04</td>\n",
              "    </tr>\n",
              "    <tr>\n",
              "      <th>max</th>\n",
              "      <td>1.012303e+08</td>\n",
              "      <td>8.742577e+10</td>\n",
              "      <td>2.147483e+09</td>\n",
              "      <td>3.273600e+04</td>\n",
              "      <td>9.999000e+03</td>\n",
              "      <td>3.000000e+00</td>\n",
              "      <td>1.000000e+00</td>\n",
              "      <td>3.000000e+05</td>\n",
              "    </tr>\n",
              "  </tbody>\n",
              "</table>\n",
              "</div>"
            ],
            "text/plain": [
              "             row_id  ...  prior_question_elapsed_time\n",
              "count  1.012303e+08  ...                 9.887879e+07\n",
              "mean   5.061517e+07  ...                 2.542381e+04\n",
              "std    2.922268e+07  ...                 1.994815e+04\n",
              "min    0.000000e+00  ...                 0.000000e+00\n",
              "25%    3.319773e+07  ...                 1.600000e+04\n",
              "50%    6.714752e+07  ...                 2.100000e+04\n",
              "75%    1.011347e+08  ...                 3.050000e+04\n",
              "max    1.012303e+08  ...                 3.000000e+05\n",
              "\n",
              "[8 rows x 8 columns]"
            ]
          },
          "metadata": {
            "tags": []
          },
          "execution_count": 14
        }
      ]
    },
    {
      "cell_type": "code",
      "metadata": {
        "colab": {
          "base_uri": "https://localhost:8080/",
          "height": 402
        },
        "id": "ITPiywyqh6kA",
        "outputId": "e2a83b96-0e08-4f06-ce9f-5bd54d4f1f28"
      },
      "source": [
        "%%time\n",
        "df_modin_ray.describe()"
      ],
      "execution_count": null,
      "outputs": [
        {
          "output_type": "stream",
          "text": [
            "\u001b[2m\u001b[36m(pid=4827)\u001b[0m tcmalloc: large alloc 1619689472 bytes == 0x556e86e76000 @  0x7f3bc74da1e7 0x7f3bc0ac946e 0x7f3bc0b19c7b 0x7f3bc0b19d18 0x7f3bc0bc1010 0x7f3bc0bc173c 0x7f3bc0bc185d 0x556d6b28c2f8 0x7f3bc0b06ef7 0x556d6b289fd7 0x556d6b289de0 0x556d6b2fdac2 0x556d6b2f8b0e 0x556d6b28b77a 0x556d6b2fa86a 0x556d6b2f8e0d 0x556d6b28b77a 0x556d6b2fa86a 0x556d6b2f8b0e 0x556d6b28b77a 0x556d6b2fa86a 0x556d6b28b69a 0x556d6b2f9c9e 0x556d6b2f8b0e 0x556d6b28b77a 0x556d6b2fa86a 0x556d6b2f8b0e 0x556d6b28be11 0x556d6b28c231 0x556d6b2fb1e6 0x556d6b2f8e0d\n",
            "\u001b[2m\u001b[36m(pid=4827)\u001b[0m tcmalloc: large alloc 1619689472 bytes == 0x556d9def6000 @  0x7f3bc74da1e7 0x7f3bc0ac946e 0x7f3bc0b19c7b 0x7f3bc0b1a35f 0x7f3bc0bbc103 0x556d6b28a0e4 0x556d6b289de0 0x556d6b2fe6f5 0x556d6b2f8b0e 0x556d6b28b77a 0x556d6b2fa86a 0x556d6b2f8b0e 0x556d6b28b77a 0x556d6b2fa86a 0x556d6b2f8e0d 0x556d6b28b77a 0x556d6b2fa86a 0x556d6b2f8e0d 0x556d6b28b77a 0x556d6b2fa86a 0x556d6b2f8b0e 0x556d6b28b77a 0x556d6b2fa86a 0x556d6b2f8b0e 0x556d6b28b77a 0x556d6b2fa86a 0x556d6b2f8b0e 0x556d6b28b77a 0x556d6b2fa86a 0x556d6b2f8b0e 0x556d6b28b77a\n",
            "\u001b[2m\u001b[36m(pid=4827)\u001b[0m tcmalloc: large alloc 1619689472 bytes == 0x556f41410000 @  0x7f3bc74da1e7 0x7f3bc0ac946e 0x7f3bc0b19c7b 0x7f3bc0b1a35f 0x7f3bc0bbc103 0x556d6b28a0e4 0x556d6b289de0 0x556d6b2fe6f5 0x556d6b2f8b0e 0x556d6b28b77a 0x556d6b2fa86a 0x556d6b2f8b0e 0x556d6b28b77a 0x556d6b2fa86a 0x556d6b2f8e0d 0x556d6b28b77a 0x556d6b2fa86a 0x556d6b2f8e0d 0x556d6b28b77a 0x556d6b2fa86a 0x556d6b2f8b0e 0x556d6b28b77a 0x556d6b2fa86a 0x556d6b2f8b0e 0x556d6b28b77a 0x556d6b2fa86a 0x556d6b2f8b0e 0x556d6b28b77a 0x556d6b2fa86a 0x556d6b2f8b0e 0x556d6b28b77a\n"
          ],
          "name": "stderr"
        },
        {
          "output_type": "stream",
          "text": [
            "CPU times: user 2.48 s, sys: 487 ms, total: 2.97 s\n",
            "Wall time: 1min 17s\n"
          ],
          "name": "stdout"
        },
        {
          "output_type": "execute_result",
          "data": {
            "text/html": [
              "<div>\n",
              "<style scoped>\n",
              "    .dataframe tbody tr th:only-of-type {\n",
              "        vertical-align: middle;\n",
              "    }\n",
              "\n",
              "    .dataframe tbody tr th {\n",
              "        vertical-align: top;\n",
              "    }\n",
              "\n",
              "    .dataframe thead th {\n",
              "        text-align: right;\n",
              "    }\n",
              "</style>\n",
              "<table border=\"1\" class=\"dataframe\">\n",
              "  <thead>\n",
              "    <tr style=\"text-align: right;\">\n",
              "      <th></th>\n",
              "      <th>row_id</th>\n",
              "      <th>timestamp</th>\n",
              "      <th>user_id</th>\n",
              "      <th>content_id</th>\n",
              "      <th>task_container_id</th>\n",
              "      <th>user_answer</th>\n",
              "      <th>answered_correctly</th>\n",
              "      <th>prior_question_elapsed_time</th>\n",
              "    </tr>\n",
              "  </thead>\n",
              "  <tbody>\n",
              "    <tr>\n",
              "      <th>count</th>\n",
              "      <td>1.012303e+08</td>\n",
              "      <td>1.012303e+08</td>\n",
              "      <td>1.012303e+08</td>\n",
              "      <td>1.012303e+08</td>\n",
              "      <td>1.012303e+08</td>\n",
              "      <td>1.012303e+08</td>\n",
              "      <td>1.012303e+08</td>\n",
              "      <td>9.887879e+07</td>\n",
              "    </tr>\n",
              "    <tr>\n",
              "      <th>mean</th>\n",
              "      <td>5.061517e+07</td>\n",
              "      <td>7.703644e+09</td>\n",
              "      <td>1.076732e+09</td>\n",
              "      <td>5.219605e+03</td>\n",
              "      <td>9.040624e+02</td>\n",
              "      <td>1.376123e+00</td>\n",
              "      <td>6.251644e-01</td>\n",
              "      <td>1.300508e+04</td>\n",
              "    </tr>\n",
              "    <tr>\n",
              "      <th>std</th>\n",
              "      <td>2.922268e+07</td>\n",
              "      <td>1.159266e+10</td>\n",
              "      <td>6.197163e+08</td>\n",
              "      <td>3.866359e+03</td>\n",
              "      <td>1.358302e+03</td>\n",
              "      <td>1.192896e+00</td>\n",
              "      <td>5.225307e-01</td>\n",
              "      <td>2.122839e+04</td>\n",
              "    </tr>\n",
              "    <tr>\n",
              "      <th>min</th>\n",
              "      <td>0.000000e+00</td>\n",
              "      <td>0.000000e+00</td>\n",
              "      <td>1.150000e+02</td>\n",
              "      <td>0.000000e+00</td>\n",
              "      <td>0.000000e+00</td>\n",
              "      <td>-1.000000e+00</td>\n",
              "      <td>-1.000000e+00</td>\n",
              "      <td>0.000000e+00</td>\n",
              "    </tr>\n",
              "    <tr>\n",
              "      <th>25%</th>\n",
              "      <td>2.530758e+07</td>\n",
              "      <td>5.243436e+08</td>\n",
              "      <td>5.408116e+08</td>\n",
              "      <td>2.063000e+03</td>\n",
              "      <td>1.040000e+02</td>\n",
              "      <td>0.000000e+00</td>\n",
              "      <td>0.000000e+00</td>\n",
              "      <td>1.600000e+04</td>\n",
              "    </tr>\n",
              "    <tr>\n",
              "      <th>50%</th>\n",
              "      <td>5.061517e+07</td>\n",
              "      <td>2.674234e+09</td>\n",
              "      <td>1.071781e+09</td>\n",
              "      <td>5.026000e+03</td>\n",
              "      <td>3.820000e+02</td>\n",
              "      <td>1.000000e+00</td>\n",
              "      <td>1.000000e+00</td>\n",
              "      <td>2.100000e+04</td>\n",
              "    </tr>\n",
              "    <tr>\n",
              "      <th>75%</th>\n",
              "      <td>7.592275e+07</td>\n",
              "      <td>9.924551e+09</td>\n",
              "      <td>1.615742e+09</td>\n",
              "      <td>7.425000e+03</td>\n",
              "      <td>1.094000e+03</td>\n",
              "      <td>3.000000e+00</td>\n",
              "      <td>1.000000e+00</td>\n",
              "      <td>2.966600e+04</td>\n",
              "    </tr>\n",
              "    <tr>\n",
              "      <th>max</th>\n",
              "      <td>1.012303e+08</td>\n",
              "      <td>8.742577e+10</td>\n",
              "      <td>2.147483e+09</td>\n",
              "      <td>3.273600e+04</td>\n",
              "      <td>9.999000e+03</td>\n",
              "      <td>3.000000e+00</td>\n",
              "      <td>1.000000e+00</td>\n",
              "      <td>3.000000e+05</td>\n",
              "    </tr>\n",
              "  </tbody>\n",
              "</table>\n",
              "</div>"
            ],
            "text/plain": [
              "             row_id  ...  prior_question_elapsed_time\n",
              "count  1.012303e+08  ...                 9.887879e+07\n",
              "mean   5.061517e+07  ...                 1.300508e+04\n",
              "std    2.922268e+07  ...                 2.122839e+04\n",
              "min    0.000000e+00  ...                 0.000000e+00\n",
              "25%    2.530758e+07  ...                 1.600000e+04\n",
              "50%    5.061517e+07  ...                 2.100000e+04\n",
              "75%    7.592275e+07  ...                 2.966600e+04\n",
              "max    1.012303e+08  ...                 3.000000e+05\n",
              "\n",
              "[8 rows x 8 columns]"
            ]
          },
          "metadata": {
            "tags": []
          },
          "execution_count": 9
        }
      ]
    },
    {
      "cell_type": "code",
      "metadata": {
        "colab": {
          "base_uri": "https://localhost:8080/",
          "height": 402
        },
        "id": "QW0JXrJPlNCd",
        "outputId": "cace01d2-7608-4fc7-a814-61ca3739b47a"
      },
      "source": [
        "%%time\n",
        "df_modin.describe()"
      ],
      "execution_count": null,
      "outputs": [
        {
          "output_type": "stream",
          "text": [
            "\u001b[2m\u001b[36m(pid=6399)\u001b[0m tcmalloc: large alloc 1619689472 bytes == 0x556a91994000 @  0x7f40877071e7 0x7f4080cf646e 0x7f4080d46c7b 0x7f4080d46d18 0x7f4080dee010 0x7f4080dee73c 0x7f4080dee85d 0x556975d1b2f8 0x7f4080d33ef7 0x556975d18fd7 0x556975d18de0 0x556975d8cac2 0x556975d87b0e 0x556975d1a77a 0x556975d8986a 0x556975d87e0d 0x556975d1a77a 0x556975d8986a 0x556975d87b0e 0x556975d1a77a 0x556975d8986a 0x556975d1a69a 0x556975d88c9e 0x556975d87b0e 0x556975d1a77a 0x556975d8986a 0x556975d87b0e 0x556975d1ae11 0x556975d1b231 0x556975d8a1e6 0x556975d87e0d\n",
            "\u001b[2m\u001b[36m(pid=6399)\u001b[0m tcmalloc: large alloc 1619689472 bytes == 0x5569a8a1a000 @  0x7f40877071e7 0x7f4080cf646e 0x7f4080d46c7b 0x7f4080d4735f 0x7f4080de9103 0x556975d190e4 0x556975d18de0 0x556975d8d6f5 0x556975d87b0e 0x556975d1a77a 0x556975d8986a 0x556975d87b0e 0x556975d1a77a 0x556975d8986a 0x556975d87e0d 0x556975d1a77a 0x556975d8986a 0x556975d87e0d 0x556975d1a77a 0x556975d8986a 0x556975d87b0e 0x556975d1a77a 0x556975d8986a 0x556975d87b0e 0x556975d1a77a 0x556975d8986a 0x556975d87b0e 0x556975d1a77a 0x556975d8986a 0x556975d87b0e 0x556975d1a77a\n",
            "\u001b[2m\u001b[36m(pid=6399)\u001b[0m tcmalloc: large alloc 1619689472 bytes == 0x556b3fe18000 @  0x7f40877071e7 0x7f4080cf646e 0x7f4080d46c7b 0x7f4080d4735f 0x7f4080de9103 0x556975d190e4 0x556975d18de0 0x556975d8d6f5 0x556975d87b0e 0x556975d1a77a 0x556975d8986a 0x556975d87b0e 0x556975d1a77a 0x556975d8986a 0x556975d87e0d 0x556975d1a77a 0x556975d8986a 0x556975d87e0d 0x556975d1a77a 0x556975d8986a 0x556975d87b0e 0x556975d1a77a 0x556975d8986a 0x556975d87b0e 0x556975d1a77a 0x556975d8986a 0x556975d87b0e 0x556975d1a77a 0x556975d8986a 0x556975d87b0e 0x556975d1a77a\n"
          ],
          "name": "stderr"
        },
        {
          "output_type": "stream",
          "text": [
            "CPU times: user 2.46 s, sys: 480 ms, total: 2.94 s\n",
            "Wall time: 1min 16s\n"
          ],
          "name": "stdout"
        },
        {
          "output_type": "execute_result",
          "data": {
            "text/html": [
              "<div>\n",
              "<style scoped>\n",
              "    .dataframe tbody tr th:only-of-type {\n",
              "        vertical-align: middle;\n",
              "    }\n",
              "\n",
              "    .dataframe tbody tr th {\n",
              "        vertical-align: top;\n",
              "    }\n",
              "\n",
              "    .dataframe thead th {\n",
              "        text-align: right;\n",
              "    }\n",
              "</style>\n",
              "<table border=\"1\" class=\"dataframe\">\n",
              "  <thead>\n",
              "    <tr style=\"text-align: right;\">\n",
              "      <th></th>\n",
              "      <th>row_id</th>\n",
              "      <th>timestamp</th>\n",
              "      <th>user_id</th>\n",
              "      <th>content_id</th>\n",
              "      <th>task_container_id</th>\n",
              "      <th>user_answer</th>\n",
              "      <th>answered_correctly</th>\n",
              "      <th>prior_question_elapsed_time</th>\n",
              "    </tr>\n",
              "  </thead>\n",
              "  <tbody>\n",
              "    <tr>\n",
              "      <th>count</th>\n",
              "      <td>1.012303e+08</td>\n",
              "      <td>1.012303e+08</td>\n",
              "      <td>1.012303e+08</td>\n",
              "      <td>1.012303e+08</td>\n",
              "      <td>1.012303e+08</td>\n",
              "      <td>1.012303e+08</td>\n",
              "      <td>1.012303e+08</td>\n",
              "      <td>9.887879e+07</td>\n",
              "    </tr>\n",
              "    <tr>\n",
              "      <th>mean</th>\n",
              "      <td>5.061517e+07</td>\n",
              "      <td>7.703644e+09</td>\n",
              "      <td>1.076732e+09</td>\n",
              "      <td>5.219605e+03</td>\n",
              "      <td>9.040624e+02</td>\n",
              "      <td>1.376123e+00</td>\n",
              "      <td>6.251644e-01</td>\n",
              "      <td>1.300508e+04</td>\n",
              "    </tr>\n",
              "    <tr>\n",
              "      <th>std</th>\n",
              "      <td>2.922268e+07</td>\n",
              "      <td>1.159266e+10</td>\n",
              "      <td>6.197163e+08</td>\n",
              "      <td>3.866359e+03</td>\n",
              "      <td>1.358302e+03</td>\n",
              "      <td>1.192896e+00</td>\n",
              "      <td>5.225307e-01</td>\n",
              "      <td>2.122839e+04</td>\n",
              "    </tr>\n",
              "    <tr>\n",
              "      <th>min</th>\n",
              "      <td>0.000000e+00</td>\n",
              "      <td>0.000000e+00</td>\n",
              "      <td>1.150000e+02</td>\n",
              "      <td>0.000000e+00</td>\n",
              "      <td>0.000000e+00</td>\n",
              "      <td>-1.000000e+00</td>\n",
              "      <td>-1.000000e+00</td>\n",
              "      <td>0.000000e+00</td>\n",
              "    </tr>\n",
              "    <tr>\n",
              "      <th>25%</th>\n",
              "      <td>2.530758e+07</td>\n",
              "      <td>5.243436e+08</td>\n",
              "      <td>5.408116e+08</td>\n",
              "      <td>2.063000e+03</td>\n",
              "      <td>1.040000e+02</td>\n",
              "      <td>0.000000e+00</td>\n",
              "      <td>0.000000e+00</td>\n",
              "      <td>1.600000e+04</td>\n",
              "    </tr>\n",
              "    <tr>\n",
              "      <th>50%</th>\n",
              "      <td>5.061517e+07</td>\n",
              "      <td>2.674234e+09</td>\n",
              "      <td>1.071781e+09</td>\n",
              "      <td>5.026000e+03</td>\n",
              "      <td>3.820000e+02</td>\n",
              "      <td>1.000000e+00</td>\n",
              "      <td>1.000000e+00</td>\n",
              "      <td>2.100000e+04</td>\n",
              "    </tr>\n",
              "    <tr>\n",
              "      <th>75%</th>\n",
              "      <td>7.592275e+07</td>\n",
              "      <td>9.924551e+09</td>\n",
              "      <td>1.615742e+09</td>\n",
              "      <td>7.425000e+03</td>\n",
              "      <td>1.094000e+03</td>\n",
              "      <td>3.000000e+00</td>\n",
              "      <td>1.000000e+00</td>\n",
              "      <td>2.966600e+04</td>\n",
              "    </tr>\n",
              "    <tr>\n",
              "      <th>max</th>\n",
              "      <td>1.012303e+08</td>\n",
              "      <td>8.742577e+10</td>\n",
              "      <td>2.147483e+09</td>\n",
              "      <td>3.273600e+04</td>\n",
              "      <td>9.999000e+03</td>\n",
              "      <td>3.000000e+00</td>\n",
              "      <td>1.000000e+00</td>\n",
              "      <td>3.000000e+05</td>\n",
              "    </tr>\n",
              "  </tbody>\n",
              "</table>\n",
              "</div>"
            ],
            "text/plain": [
              "             row_id  ...  prior_question_elapsed_time\n",
              "count  1.012303e+08  ...                 9.887879e+07\n",
              "mean   5.061517e+07  ...                 1.300508e+04\n",
              "std    2.922268e+07  ...                 2.122839e+04\n",
              "min    0.000000e+00  ...                 0.000000e+00\n",
              "25%    2.530758e+07  ...                 1.600000e+04\n",
              "50%    5.061517e+07  ...                 2.100000e+04\n",
              "75%    7.592275e+07  ...                 2.966600e+04\n",
              "max    1.012303e+08  ...                 3.000000e+05\n",
              "\n",
              "[8 rows x 8 columns]"
            ]
          },
          "metadata": {
            "tags": []
          },
          "execution_count": 9
        }
      ]
    },
    {
      "cell_type": "code",
      "metadata": {
        "colab": {
          "base_uri": "https://localhost:8080/",
          "height": 218
        },
        "id": "xCalbiM0NjLJ",
        "outputId": "423ab5a3-a0e0-4482-dca8-eeae6237884c"
      },
      "source": [
        "%%time\n",
        "# df_datable.describe()\n",
        "# summary(df_datable)\n",
        "df_datable.sum()"
      ],
      "execution_count": 13,
      "outputs": [
        {
          "output_type": "stream",
          "text": [
            "CPU times: user 16.3 s, sys: 14.3 ms, total: 16.4 s\n",
            "Wall time: 8.28 s\n",
            "   |      row_id    timestamp      user_id   content_id  content_type_id  task_container_id  user_answer  answered_c…  …\n",
            "-- + -----------  -----------  -----------  -----------  ---------------  -----------------  -----------  -----------   \n",
            " 0 | 5.12379e+15  7.79842e+17  1.08998e+17  5.28382e+11      1.95903e+06        9.15185e+10  1.39305e+08  6.32856e+07  …\n",
            "\n",
            "[1 row x 10 columns]\n"
          ],
          "name": "stdout"
        },
        {
          "output_type": "execute_result",
          "data": {
            "text/html": [
              "<div class='datatable'>\n",
              "  <table class='frame'>\n",
              "  <thead>\n",
              "    <tr class='colnames'><td class='row_index'></td><th>row_id</th><th>timestamp</th><th>user_id</th><th>content_id</th><th>content_type_id</th><th>task_container_id</th><th>user_answer</th><th>answered_correctly</th><th>prior_question_elapsed_time</th><th>prior_question_had_explanation</th></tr>\n",
              "    <tr class='coltypes'><td class='row_index'></td><td class='float' title='float64'>&#x25AA;&#x25AA;&#x25AA;&#x25AA;&#x25AA;&#x25AA;&#x25AA;&#x25AA;</td><td class='float' title='float64'>&#x25AA;&#x25AA;&#x25AA;&#x25AA;&#x25AA;&#x25AA;&#x25AA;&#x25AA;</td><td class='float' title='float64'>&#x25AA;&#x25AA;&#x25AA;&#x25AA;&#x25AA;&#x25AA;&#x25AA;&#x25AA;</td><td class='float' title='float64'>&#x25AA;&#x25AA;&#x25AA;&#x25AA;&#x25AA;&#x25AA;&#x25AA;&#x25AA;</td><td class='float' title='float64'>&#x25AA;&#x25AA;&#x25AA;&#x25AA;&#x25AA;&#x25AA;&#x25AA;&#x25AA;</td><td class='float' title='float64'>&#x25AA;&#x25AA;&#x25AA;&#x25AA;&#x25AA;&#x25AA;&#x25AA;&#x25AA;</td><td class='float' title='float64'>&#x25AA;&#x25AA;&#x25AA;&#x25AA;&#x25AA;&#x25AA;&#x25AA;&#x25AA;</td><td class='float' title='float64'>&#x25AA;&#x25AA;&#x25AA;&#x25AA;&#x25AA;&#x25AA;&#x25AA;&#x25AA;</td><td class='float' title='float64'>&#x25AA;&#x25AA;&#x25AA;&#x25AA;&#x25AA;&#x25AA;&#x25AA;&#x25AA;</td><td class='float' title='float64'>&#x25AA;&#x25AA;&#x25AA;&#x25AA;&#x25AA;&#x25AA;&#x25AA;&#x25AA;</td></tr>\n",
              "  </thead>\n",
              "  <tbody>\n",
              "    <tr><td class='row_index'>0</td><td>5.12379e+15</td><td>7.79842e+17</td><td>1.08998e+17</td><td>5.28382e+11</td><td>1.95903e+06</td><td>9.15185e+10</td><td>1.39305e+08</td><td>6.32856e+07</td><td>2.51388e+12</td><td>8.96856e+07</td></tr>\n",
              "  </tbody>\n",
              "  </table>\n",
              "  <div class='footer'>\n",
              "    <div class='frame_dimensions'>1 row &times; 10 columns</div>\n",
              "  </div>\n",
              "</div>\n"
            ],
            "text/plain": [
              ""
            ]
          },
          "metadata": {
            "tags": []
          },
          "execution_count": 13
        }
      ]
    },
    {
      "cell_type": "code",
      "metadata": {
        "colab": {
          "base_uri": "https://localhost:8080/",
          "height": 218
        },
        "id": "5HBkGw4l7xfs",
        "outputId": "2269af47-9c73-49ea-ca8f-24cae8f08692"
      },
      "source": [
        "%%time\n",
        "df_datable.max()"
      ],
      "execution_count": 14,
      "outputs": [
        {
          "output_type": "stream",
          "text": [
            "CPU times: user 64 µs, sys: 10 µs, total: 74 µs\n",
            "Wall time: 78.4 µs\n",
            "   |    row_id    timestamp     user_id  content_id  content_type_id  task_container_id  user_answer  answered_corre…  …\n",
            "-- + ---------  -----------  ----------  ----------  ---------------  -----------------  -----------  ---------------   \n",
            " 0 | 101230331  87425772049  2147482888       32736                1               9999            3                1  …\n",
            "\n",
            "[1 row x 10 columns]\n"
          ],
          "name": "stdout"
        },
        {
          "output_type": "execute_result",
          "data": {
            "text/html": [
              "<div class='datatable'>\n",
              "  <table class='frame'>\n",
              "  <thead>\n",
              "    <tr class='colnames'><td class='row_index'></td><th>row_id</th><th>timestamp</th><th>user_id</th><th>content_id</th><th>content_type_id</th><th>task_container_id</th><th>user_answer</th><th>answered_correctly</th><th>prior_question_elapsed_time</th><th>prior_question_had_explanation</th></tr>\n",
              "    <tr class='coltypes'><td class='row_index'></td><td class='int' title='int32'>&#x25AA;&#x25AA;&#x25AA;&#x25AA;</td><td class='int' title='int64'>&#x25AA;&#x25AA;&#x25AA;&#x25AA;&#x25AA;&#x25AA;&#x25AA;&#x25AA;</td><td class='int' title='int32'>&#x25AA;&#x25AA;&#x25AA;&#x25AA;</td><td class='int' title='int32'>&#x25AA;&#x25AA;&#x25AA;&#x25AA;</td><td class='bool' title='bool8'>&#x25AA;</td><td class='int' title='int32'>&#x25AA;&#x25AA;&#x25AA;&#x25AA;</td><td class='int' title='int32'>&#x25AA;&#x25AA;&#x25AA;&#x25AA;</td><td class='int' title='int32'>&#x25AA;&#x25AA;&#x25AA;&#x25AA;</td><td class='float' title='float64'>&#x25AA;&#x25AA;&#x25AA;&#x25AA;&#x25AA;&#x25AA;&#x25AA;&#x25AA;</td><td class='bool' title='bool8'>&#x25AA;</td></tr>\n",
              "  </thead>\n",
              "  <tbody>\n",
              "    <tr><td class='row_index'>0</td><td>101230331</td><td>87425772049</td><td>2147482888</td><td>32736</td><td>1</td><td>9999</td><td>3</td><td>1</td><td>300000</td><td>1</td></tr>\n",
              "  </tbody>\n",
              "  </table>\n",
              "  <div class='footer'>\n",
              "    <div class='frame_dimensions'>1 row &times; 10 columns</div>\n",
              "  </div>\n",
              "</div>\n"
            ],
            "text/plain": [
              ""
            ]
          },
          "metadata": {
            "tags": []
          },
          "execution_count": 14
        }
      ]
    },
    {
      "cell_type": "code",
      "metadata": {
        "colab": {
          "base_uri": "https://localhost:8080/",
          "height": 218
        },
        "id": "eKbTbUMt71sg",
        "outputId": "62d6fa5f-b802-46b0-959b-a7cfd1c76094"
      },
      "source": [
        "%%time\n",
        "df_datable.min()"
      ],
      "execution_count": 15,
      "outputs": [
        {
          "output_type": "stream",
          "text": [
            "CPU times: user 62 µs, sys: 0 ns, total: 62 µs\n",
            "Wall time: 67.5 µs\n",
            "   | row_id  timestamp  user_id  content_id  content_type_id  task_container_id  user_answer  answered_correctly  pr…  …\n",
            "-- + ------  ---------  -------  ----------  ---------------  -----------------  -----------  ------------------  ---   \n",
            " 0 |      0          0      115           0                0                  0           -1                  -1    0  …\n",
            "\n",
            "[1 row x 10 columns]\n"
          ],
          "name": "stdout"
        },
        {
          "output_type": "execute_result",
          "data": {
            "text/html": [
              "<div class='datatable'>\n",
              "  <table class='frame'>\n",
              "  <thead>\n",
              "    <tr class='colnames'><td class='row_index'></td><th>row_id</th><th>timestamp</th><th>user_id</th><th>content_id</th><th>content_type_id</th><th>task_container_id</th><th>user_answer</th><th>answered_correctly</th><th>prior_question_elapsed_time</th><th>prior_question_had_explanation</th></tr>\n",
              "    <tr class='coltypes'><td class='row_index'></td><td class='int' title='int32'>&#x25AA;&#x25AA;&#x25AA;&#x25AA;</td><td class='int' title='int64'>&#x25AA;&#x25AA;&#x25AA;&#x25AA;&#x25AA;&#x25AA;&#x25AA;&#x25AA;</td><td class='int' title='int32'>&#x25AA;&#x25AA;&#x25AA;&#x25AA;</td><td class='int' title='int32'>&#x25AA;&#x25AA;&#x25AA;&#x25AA;</td><td class='bool' title='bool8'>&#x25AA;</td><td class='int' title='int32'>&#x25AA;&#x25AA;&#x25AA;&#x25AA;</td><td class='int' title='int32'>&#x25AA;&#x25AA;&#x25AA;&#x25AA;</td><td class='int' title='int32'>&#x25AA;&#x25AA;&#x25AA;&#x25AA;</td><td class='float' title='float64'>&#x25AA;&#x25AA;&#x25AA;&#x25AA;&#x25AA;&#x25AA;&#x25AA;&#x25AA;</td><td class='bool' title='bool8'>&#x25AA;</td></tr>\n",
              "  </thead>\n",
              "  <tbody>\n",
              "    <tr><td class='row_index'>0</td><td>0</td><td>0</td><td>115</td><td>0</td><td>0</td><td>0</td><td>&minus;1</td><td>&minus;1</td><td>0</td><td>0</td></tr>\n",
              "  </tbody>\n",
              "  </table>\n",
              "  <div class='footer'>\n",
              "    <div class='frame_dimensions'>1 row &times; 10 columns</div>\n",
              "  </div>\n",
              "</div>\n"
            ],
            "text/plain": [
              ""
            ]
          },
          "metadata": {
            "tags": []
          },
          "execution_count": 15
        }
      ]
    },
    {
      "cell_type": "code",
      "metadata": {
        "colab": {
          "base_uri": "https://localhost:8080/",
          "height": 218
        },
        "id": "nDhXMODr71gL",
        "outputId": "704eaecb-8822-4706-f713-1320ad06c925"
      },
      "source": [
        "%%time\n",
        "df_datable.mean()"
      ],
      "execution_count": 16,
      "outputs": [
        {
          "output_type": "stream",
          "text": [
            "CPU times: user 32 µs, sys: 5 µs, total: 37 µs\n",
            "Wall time: 42 µs\n",
            "   |      row_id    timestamp      user_id  content_id  content_type_id  task_container_id  user_answer  answered_co…  …\n",
            "-- + -----------  -----------  -----------  ----------  ---------------  -----------------  -----------  ------------   \n",
            " 0 | 5.06152e+07  7.70364e+09  1.07673e+09      5219.6        0.0193522            904.062      1.37612      0.625164  …\n",
            "\n",
            "[1 row x 10 columns]\n"
          ],
          "name": "stdout"
        },
        {
          "output_type": "execute_result",
          "data": {
            "text/html": [
              "<div class='datatable'>\n",
              "  <table class='frame'>\n",
              "  <thead>\n",
              "    <tr class='colnames'><td class='row_index'></td><th>row_id</th><th>timestamp</th><th>user_id</th><th>content_id</th><th>content_type_id</th><th>task_container_id</th><th>user_answer</th><th>answered_correctly</th><th>prior_question_elapsed_time</th><th>prior_question_had_explanation</th></tr>\n",
              "    <tr class='coltypes'><td class='row_index'></td><td class='float' title='float64'>&#x25AA;&#x25AA;&#x25AA;&#x25AA;&#x25AA;&#x25AA;&#x25AA;&#x25AA;</td><td class='float' title='float64'>&#x25AA;&#x25AA;&#x25AA;&#x25AA;&#x25AA;&#x25AA;&#x25AA;&#x25AA;</td><td class='float' title='float64'>&#x25AA;&#x25AA;&#x25AA;&#x25AA;&#x25AA;&#x25AA;&#x25AA;&#x25AA;</td><td class='float' title='float64'>&#x25AA;&#x25AA;&#x25AA;&#x25AA;&#x25AA;&#x25AA;&#x25AA;&#x25AA;</td><td class='float' title='float64'>&#x25AA;&#x25AA;&#x25AA;&#x25AA;&#x25AA;&#x25AA;&#x25AA;&#x25AA;</td><td class='float' title='float64'>&#x25AA;&#x25AA;&#x25AA;&#x25AA;&#x25AA;&#x25AA;&#x25AA;&#x25AA;</td><td class='float' title='float64'>&#x25AA;&#x25AA;&#x25AA;&#x25AA;&#x25AA;&#x25AA;&#x25AA;&#x25AA;</td><td class='float' title='float64'>&#x25AA;&#x25AA;&#x25AA;&#x25AA;&#x25AA;&#x25AA;&#x25AA;&#x25AA;</td><td class='float' title='float64'>&#x25AA;&#x25AA;&#x25AA;&#x25AA;&#x25AA;&#x25AA;&#x25AA;&#x25AA;</td><td class='float' title='float64'>&#x25AA;&#x25AA;&#x25AA;&#x25AA;&#x25AA;&#x25AA;&#x25AA;&#x25AA;</td></tr>\n",
              "  </thead>\n",
              "  <tbody>\n",
              "    <tr><td class='row_index'>0</td><td>5.06152e+07</td><td>7.70364e+09</td><td>1.07673e+09</td><td>5219.6</td><td>0.0193522</td><td>904.062</td><td>1.37612</td><td>0.625164</td><td>25423.8</td><td>0.889404</td></tr>\n",
              "  </tbody>\n",
              "  </table>\n",
              "  <div class='footer'>\n",
              "    <div class='frame_dimensions'>1 row &times; 10 columns</div>\n",
              "  </div>\n",
              "</div>\n"
            ],
            "text/plain": [
              ""
            ]
          },
          "metadata": {
            "tags": []
          },
          "execution_count": 16
        }
      ]
    },
    {
      "cell_type": "code",
      "metadata": {
        "colab": {
          "base_uri": "https://localhost:8080/",
          "height": 218
        },
        "id": "ArsjhH6z71S6",
        "outputId": "c0f476bc-ed74-4315-8892-567bec91ccc5"
      },
      "source": [
        "%%time\n",
        "df_datable.sd()"
      ],
      "execution_count": 17,
      "outputs": [
        {
          "output_type": "stream",
          "text": [
            "CPU times: user 31 µs, sys: 5 µs, total: 36 µs\n",
            "Wall time: 38.9 µs\n",
            "   |      row_id    timestamp      user_id  content_id  content_type_id  task_container_id  user_answer  answered_co…  …\n",
            "-- + -----------  -----------  -----------  ----------  ---------------  -----------------  -----------  ------------   \n",
            " 0 | 2.92227e+07  1.15927e+10  6.19716e+08     3866.36          0.13776             1358.3       1.1929      0.522531  …\n",
            "\n",
            "[1 row x 10 columns]\n"
          ],
          "name": "stdout"
        },
        {
          "output_type": "execute_result",
          "data": {
            "text/html": [
              "<div class='datatable'>\n",
              "  <table class='frame'>\n",
              "  <thead>\n",
              "    <tr class='colnames'><td class='row_index'></td><th>row_id</th><th>timestamp</th><th>user_id</th><th>content_id</th><th>content_type_id</th><th>task_container_id</th><th>user_answer</th><th>answered_correctly</th><th>prior_question_elapsed_time</th><th>prior_question_had_explanation</th></tr>\n",
              "    <tr class='coltypes'><td class='row_index'></td><td class='float' title='float64'>&#x25AA;&#x25AA;&#x25AA;&#x25AA;&#x25AA;&#x25AA;&#x25AA;&#x25AA;</td><td class='float' title='float64'>&#x25AA;&#x25AA;&#x25AA;&#x25AA;&#x25AA;&#x25AA;&#x25AA;&#x25AA;</td><td class='float' title='float64'>&#x25AA;&#x25AA;&#x25AA;&#x25AA;&#x25AA;&#x25AA;&#x25AA;&#x25AA;</td><td class='float' title='float64'>&#x25AA;&#x25AA;&#x25AA;&#x25AA;&#x25AA;&#x25AA;&#x25AA;&#x25AA;</td><td class='float' title='float64'>&#x25AA;&#x25AA;&#x25AA;&#x25AA;&#x25AA;&#x25AA;&#x25AA;&#x25AA;</td><td class='float' title='float64'>&#x25AA;&#x25AA;&#x25AA;&#x25AA;&#x25AA;&#x25AA;&#x25AA;&#x25AA;</td><td class='float' title='float64'>&#x25AA;&#x25AA;&#x25AA;&#x25AA;&#x25AA;&#x25AA;&#x25AA;&#x25AA;</td><td class='float' title='float64'>&#x25AA;&#x25AA;&#x25AA;&#x25AA;&#x25AA;&#x25AA;&#x25AA;&#x25AA;</td><td class='float' title='float64'>&#x25AA;&#x25AA;&#x25AA;&#x25AA;&#x25AA;&#x25AA;&#x25AA;&#x25AA;</td><td class='float' title='float64'>&#x25AA;&#x25AA;&#x25AA;&#x25AA;&#x25AA;&#x25AA;&#x25AA;&#x25AA;</td></tr>\n",
              "  </thead>\n",
              "  <tbody>\n",
              "    <tr><td class='row_index'>0</td><td>2.92227e+07</td><td>1.15927e+10</td><td>6.19716e+08</td><td>3866.36</td><td>0.13776</td><td>1358.3</td><td>1.1929</td><td>0.522531</td><td>19948.1</td><td>0.313631</td></tr>\n",
              "  </tbody>\n",
              "  </table>\n",
              "  <div class='footer'>\n",
              "    <div class='frame_dimensions'>1 row &times; 10 columns</div>\n",
              "  </div>\n",
              "</div>\n"
            ],
            "text/plain": [
              ""
            ]
          },
          "metadata": {
            "tags": []
          },
          "execution_count": 17
        }
      ]
    },
    {
      "cell_type": "code",
      "metadata": {
        "colab": {
          "base_uri": "https://localhost:8080/",
          "height": 218
        },
        "id": "zSmTiV9P71GD",
        "outputId": "e561b072-6f14-45fc-8700-f698d977d5a1"
      },
      "source": [
        "%%time\n",
        "df_datable.mode()"
      ],
      "execution_count": 18,
      "outputs": [
        {
          "output_type": "stream",
          "text": [
            "CPU times: user 50.9 s, sys: 9.38 s, total: 1min\n",
            "Wall time: 33.2 s\n",
            "   | row_id  timestamp    user_id  content_id  content_type_id  task_container_id  user_answer  answered_correctly  …\n",
            "-- + ------  ---------  ---------  ----------  ---------------  -----------------  -----------  ------------------   \n",
            " 0 |      0          0  801103753        6116                0                 14            0                   1  …\n",
            "\n",
            "[1 row x 10 columns]\n"
          ],
          "name": "stdout"
        },
        {
          "output_type": "execute_result",
          "data": {
            "text/html": [
              "<div class='datatable'>\n",
              "  <table class='frame'>\n",
              "  <thead>\n",
              "    <tr class='colnames'><td class='row_index'></td><th>row_id</th><th>timestamp</th><th>user_id</th><th>content_id</th><th>content_type_id</th><th>task_container_id</th><th>user_answer</th><th>answered_correctly</th><th>prior_question_elapsed_time</th><th>prior_question_had_explanation</th></tr>\n",
              "    <tr class='coltypes'><td class='row_index'></td><td class='int' title='int32'>&#x25AA;&#x25AA;&#x25AA;&#x25AA;</td><td class='int' title='int64'>&#x25AA;&#x25AA;&#x25AA;&#x25AA;&#x25AA;&#x25AA;&#x25AA;&#x25AA;</td><td class='int' title='int32'>&#x25AA;&#x25AA;&#x25AA;&#x25AA;</td><td class='int' title='int32'>&#x25AA;&#x25AA;&#x25AA;&#x25AA;</td><td class='bool' title='bool8'>&#x25AA;</td><td class='int' title='int32'>&#x25AA;&#x25AA;&#x25AA;&#x25AA;</td><td class='int' title='int32'>&#x25AA;&#x25AA;&#x25AA;&#x25AA;</td><td class='int' title='int32'>&#x25AA;&#x25AA;&#x25AA;&#x25AA;</td><td class='float' title='float64'>&#x25AA;&#x25AA;&#x25AA;&#x25AA;&#x25AA;&#x25AA;&#x25AA;&#x25AA;</td><td class='bool' title='bool8'>&#x25AA;</td></tr>\n",
              "  </thead>\n",
              "  <tbody>\n",
              "    <tr><td class='row_index'>0</td><td>0</td><td>0</td><td>801103753</td><td>6116</td><td>0</td><td>14</td><td>0</td><td>1</td><td>17000</td><td>1</td></tr>\n",
              "  </tbody>\n",
              "  </table>\n",
              "  <div class='footer'>\n",
              "    <div class='frame_dimensions'>1 row &times; 10 columns</div>\n",
              "  </div>\n",
              "</div>\n"
            ],
            "text/plain": [
              ""
            ]
          },
          "metadata": {
            "tags": []
          },
          "execution_count": 18
        }
      ]
    },
    {
      "cell_type": "code",
      "metadata": {
        "colab": {
          "base_uri": "https://localhost:8080/",
          "height": 218
        },
        "id": "j3SiplRE701K",
        "outputId": "3b6135ab-ac97-409c-dd33-2fd47f9a6d15"
      },
      "source": [
        "%%time\n",
        "df_datable.nmodal()"
      ],
      "execution_count": 19,
      "outputs": [
        {
          "output_type": "stream",
          "text": [
            "CPU times: user 188 µs, sys: 7 µs, total: 195 µs\n",
            "Wall time: 199 µs\n",
            "   | row_id  timestamp  user_id  content_id  content_type_id  task_container_id  user_answer  answered_correctly      pr…  …\n",
            "-- + ------  ---------  -------  ----------  ---------------  -----------------  -----------  ------------------  -------   \n",
            " 0 |      1     396417    17917      213605         99271300             804285     28186489            65244627  5154588  …\n",
            "\n",
            "[1 row x 10 columns]\n"
          ],
          "name": "stdout"
        },
        {
          "output_type": "execute_result",
          "data": {
            "text/html": [
              "<div class='datatable'>\n",
              "  <table class='frame'>\n",
              "  <thead>\n",
              "    <tr class='colnames'><td class='row_index'></td><th>row_id</th><th>timestamp</th><th>user_id</th><th>content_id</th><th>content_type_id</th><th>task_container_id</th><th>user_answer</th><th>answered_correctly</th><th>prior_question_elapsed_time</th><th>prior_question_had_explanation</th></tr>\n",
              "    <tr class='coltypes'><td class='row_index'></td><td class='int' title='int64'>&#x25AA;&#x25AA;&#x25AA;&#x25AA;&#x25AA;&#x25AA;&#x25AA;&#x25AA;</td><td class='int' title='int64'>&#x25AA;&#x25AA;&#x25AA;&#x25AA;&#x25AA;&#x25AA;&#x25AA;&#x25AA;</td><td class='int' title='int64'>&#x25AA;&#x25AA;&#x25AA;&#x25AA;&#x25AA;&#x25AA;&#x25AA;&#x25AA;</td><td class='int' title='int64'>&#x25AA;&#x25AA;&#x25AA;&#x25AA;&#x25AA;&#x25AA;&#x25AA;&#x25AA;</td><td class='int' title='int64'>&#x25AA;&#x25AA;&#x25AA;&#x25AA;&#x25AA;&#x25AA;&#x25AA;&#x25AA;</td><td class='int' title='int64'>&#x25AA;&#x25AA;&#x25AA;&#x25AA;&#x25AA;&#x25AA;&#x25AA;&#x25AA;</td><td class='int' title='int64'>&#x25AA;&#x25AA;&#x25AA;&#x25AA;&#x25AA;&#x25AA;&#x25AA;&#x25AA;</td><td class='int' title='int64'>&#x25AA;&#x25AA;&#x25AA;&#x25AA;&#x25AA;&#x25AA;&#x25AA;&#x25AA;</td><td class='int' title='int64'>&#x25AA;&#x25AA;&#x25AA;&#x25AA;&#x25AA;&#x25AA;&#x25AA;&#x25AA;</td><td class='int' title='int64'>&#x25AA;&#x25AA;&#x25AA;&#x25AA;&#x25AA;&#x25AA;&#x25AA;&#x25AA;</td></tr>\n",
              "  </thead>\n",
              "  <tbody>\n",
              "    <tr><td class='row_index'>0</td><td>1</td><td>396417</td><td>17917</td><td>213605</td><td>99271300</td><td>804285</td><td>28186489</td><td>65244627</td><td>5154588</td><td>89685560</td></tr>\n",
              "  </tbody>\n",
              "  </table>\n",
              "  <div class='footer'>\n",
              "    <div class='frame_dimensions'>1 row &times; 10 columns</div>\n",
              "  </div>\n",
              "</div>\n"
            ],
            "text/plain": [
              ""
            ]
          },
          "metadata": {
            "tags": []
          },
          "execution_count": 19
        }
      ]
    },
    {
      "cell_type": "code",
      "metadata": {
        "colab": {
          "base_uri": "https://localhost:8080/",
          "height": 218
        },
        "id": "ZShsTT_A788H",
        "outputId": "23067a0b-5fb9-416a-8688-2450bf3cd4dd"
      },
      "source": [
        "%%time\n",
        "df_datable.nunique()"
      ],
      "execution_count": 20,
      "outputs": [
        {
          "output_type": "stream",
          "text": [
            "CPU times: user 35 µs, sys: 0 ns, total: 35 µs\n",
            "Wall time: 39.1 µs\n",
            "   |    row_id  timestamp  user_id  content_id  content_type_id  task_container_id  user_answer  answered_correctly  …\n",
            "-- + ---------  ---------  -------  ----------  ---------------  -----------------  -----------  ------------------   \n",
            " 0 | 101230332   72821015   393656       13782                2              10000            5                   3  …\n",
            "\n",
            "[1 row x 10 columns]\n"
          ],
          "name": "stdout"
        },
        {
          "output_type": "execute_result",
          "data": {
            "text/html": [
              "<div class='datatable'>\n",
              "  <table class='frame'>\n",
              "  <thead>\n",
              "    <tr class='colnames'><td class='row_index'></td><th>row_id</th><th>timestamp</th><th>user_id</th><th>content_id</th><th>content_type_id</th><th>task_container_id</th><th>user_answer</th><th>answered_correctly</th><th>prior_question_elapsed_time</th><th>prior_question_had_explanation</th></tr>\n",
              "    <tr class='coltypes'><td class='row_index'></td><td class='int' title='int64'>&#x25AA;&#x25AA;&#x25AA;&#x25AA;&#x25AA;&#x25AA;&#x25AA;&#x25AA;</td><td class='int' title='int64'>&#x25AA;&#x25AA;&#x25AA;&#x25AA;&#x25AA;&#x25AA;&#x25AA;&#x25AA;</td><td class='int' title='int64'>&#x25AA;&#x25AA;&#x25AA;&#x25AA;&#x25AA;&#x25AA;&#x25AA;&#x25AA;</td><td class='int' title='int64'>&#x25AA;&#x25AA;&#x25AA;&#x25AA;&#x25AA;&#x25AA;&#x25AA;&#x25AA;</td><td class='int' title='int64'>&#x25AA;&#x25AA;&#x25AA;&#x25AA;&#x25AA;&#x25AA;&#x25AA;&#x25AA;</td><td class='int' title='int64'>&#x25AA;&#x25AA;&#x25AA;&#x25AA;&#x25AA;&#x25AA;&#x25AA;&#x25AA;</td><td class='int' title='int64'>&#x25AA;&#x25AA;&#x25AA;&#x25AA;&#x25AA;&#x25AA;&#x25AA;&#x25AA;</td><td class='int' title='int64'>&#x25AA;&#x25AA;&#x25AA;&#x25AA;&#x25AA;&#x25AA;&#x25AA;&#x25AA;</td><td class='int' title='int64'>&#x25AA;&#x25AA;&#x25AA;&#x25AA;&#x25AA;&#x25AA;&#x25AA;&#x25AA;</td><td class='int' title='int64'>&#x25AA;&#x25AA;&#x25AA;&#x25AA;&#x25AA;&#x25AA;&#x25AA;&#x25AA;</td></tr>\n",
              "  </thead>\n",
              "  <tbody>\n",
              "    <tr><td class='row_index'>0</td><td>101230332</td><td>72821015</td><td>393656</td><td>13782</td><td>2</td><td>10000</td><td>5</td><td>3</td><td>3258</td><td>2</td></tr>\n",
              "  </tbody>\n",
              "  </table>\n",
              "  <div class='footer'>\n",
              "    <div class='frame_dimensions'>1 row &times; 10 columns</div>\n",
              "  </div>\n",
              "</div>\n"
            ],
            "text/plain": [
              ""
            ]
          },
          "metadata": {
            "tags": []
          },
          "execution_count": 20
        }
      ]
    },
    {
      "cell_type": "markdown",
      "metadata": {
        "id": "dsuURlihA8AE"
      },
      "source": [
        "## Pandas is the fastest to get the statistical values of the columns!"
      ]
    },
    {
      "cell_type": "markdown",
      "metadata": {
        "id": "Vtzk9whvNy8N"
      },
      "source": [
        "## Value Counts"
      ]
    },
    {
      "cell_type": "code",
      "metadata": {
        "colab": {
          "base_uri": "https://localhost:8080/"
        },
        "id": "VvzOwiR_N07O",
        "outputId": "7c8cc4b7-8b03-402a-d559-1ad2dec6f83f"
      },
      "source": [
        "%%time\n",
        "df_pandas['answered_correctly'].value_counts()"
      ],
      "execution_count": null,
      "outputs": [
        {
          "output_type": "stream",
          "text": [
            "CPU times: user 910 ms, sys: 32.9 ms, total: 943 ms\n",
            "Wall time: 947 ms\n"
          ],
          "name": "stdout"
        },
        {
          "output_type": "execute_result",
          "data": {
            "text/plain": [
              " 1    65244627\n",
              " 0    34026673\n",
              "-1     1959032\n",
              "Name: answered_correctly, dtype: int64"
            ]
          },
          "metadata": {
            "tags": []
          },
          "execution_count": 8
        }
      ]
    },
    {
      "cell_type": "code",
      "metadata": {
        "colab": {
          "base_uri": "https://localhost:8080/"
        },
        "id": "pmDDsnPGOVgL",
        "outputId": "cb8c7da0-2dc8-46cd-df59-20fc5c4222a5"
      },
      "source": [
        "%%time\n",
        "df_dask['answered_correctly'].value_counts().compute()"
      ],
      "execution_count": null,
      "outputs": [
        {
          "output_type": "stream",
          "text": [
            "CPU times: user 4min 18s, sys: 5.93 s, total: 4min 24s\n",
            "Wall time: 3min 51s\n"
          ],
          "name": "stdout"
        },
        {
          "output_type": "execute_result",
          "data": {
            "text/plain": [
              " 1    65244627\n",
              " 0    34026673\n",
              "-1     1959032\n",
              "Name: answered_correctly, dtype: int64"
            ]
          },
          "metadata": {
            "tags": []
          },
          "execution_count": 7
        }
      ]
    },
    {
      "cell_type": "code",
      "metadata": {
        "colab": {
          "base_uri": "https://localhost:8080/"
        },
        "id": "2PSui4rch9oe",
        "outputId": "0f855c64-9a10-478e-baaf-24d595090f64"
      },
      "source": [
        "%%time\n",
        "df_modin_ray['answered_correctly'].value_counts()"
      ],
      "execution_count": null,
      "outputs": [
        {
          "output_type": "stream",
          "text": [
            "CPU times: user 1.12 s, sys: 688 ms, total: 1.81 s\n",
            "Wall time: 5.38 s\n"
          ],
          "name": "stdout"
        },
        {
          "output_type": "execute_result",
          "data": {
            "text/plain": [
              " 1    65244627\n",
              " 0    34026673\n",
              "-1     1959032\n",
              "Name: answered_correctly, dtype: int64"
            ]
          },
          "metadata": {
            "tags": []
          },
          "execution_count": 10
        }
      ]
    },
    {
      "cell_type": "code",
      "metadata": {
        "colab": {
          "base_uri": "https://localhost:8080/"
        },
        "id": "EhZExLrKlOlr",
        "outputId": "45f6f4e9-473f-496b-eb02-d3ebf1383664"
      },
      "source": [
        "%%time\n",
        "df_modin['answered_correctly'].value_counts()"
      ],
      "execution_count": null,
      "outputs": [
        {
          "output_type": "stream",
          "text": [
            "CPU times: user 1.1 s, sys: 721 ms, total: 1.82 s\n",
            "Wall time: 5.35 s\n"
          ],
          "name": "stdout"
        },
        {
          "output_type": "execute_result",
          "data": {
            "text/plain": [
              " 1    65244627\n",
              " 0    34026673\n",
              "-1     1959032\n",
              "Name: answered_correctly, dtype: int64"
            ]
          },
          "metadata": {
            "tags": []
          },
          "execution_count": 10
        }
      ]
    },
    {
      "cell_type": "markdown",
      "metadata": {
        "id": "bmoP_mEiCQeY"
      },
      "source": [
        "## Pandas is the faster to get the count of unique values in a column!"
      ]
    },
    {
      "cell_type": "markdown",
      "metadata": {
        "id": "JimJCfHsPwU_"
      },
      "source": [
        "## No. of null values"
      ]
    },
    {
      "cell_type": "code",
      "metadata": {
        "colab": {
          "base_uri": "https://localhost:8080/"
        },
        "id": "va_w30LDP0Ib",
        "outputId": "a51c1635-7a75-4e19-b69d-c28170b2e9dc"
      },
      "source": [
        "%%time\n",
        "df_pandas.isna().sum()"
      ],
      "execution_count": null,
      "outputs": [
        {
          "output_type": "stream",
          "text": [
            "CPU times: user 1.39 s, sys: 8.61 ms, total: 1.4 s\n",
            "Wall time: 1.4 s\n"
          ],
          "name": "stdout"
        },
        {
          "output_type": "execute_result",
          "data": {
            "text/plain": [
              "row_id                                  0\n",
              "timestamp                               0\n",
              "user_id                                 0\n",
              "content_id                              0\n",
              "content_type_id                         0\n",
              "task_container_id                       0\n",
              "user_answer                             0\n",
              "answered_correctly                      0\n",
              "prior_question_elapsed_time       2351538\n",
              "prior_question_had_explanation     392506\n",
              "dtype: int64"
            ]
          },
          "metadata": {
            "tags": []
          },
          "execution_count": 9
        }
      ]
    },
    {
      "cell_type": "code",
      "metadata": {
        "colab": {
          "base_uri": "https://localhost:8080/"
        },
        "id": "gDc4Lo1ZP9Wl",
        "outputId": "860edf9f-0f7f-4b51-9273-b3a70cfbed6e"
      },
      "source": [
        "%%time\n",
        "df_dask.isna().sum(axis=0).compute()"
      ],
      "execution_count": null,
      "outputs": [
        {
          "output_type": "stream",
          "text": [
            "CPU times: user 4min 35s, sys: 5.72 s, total: 4min 40s\n",
            "Wall time: 3min 34s\n"
          ],
          "name": "stdout"
        },
        {
          "output_type": "execute_result",
          "data": {
            "text/plain": [
              "row_id                                  0\n",
              "timestamp                               0\n",
              "user_id                                 0\n",
              "content_id                              0\n",
              "content_type_id                         0\n",
              "task_container_id                       0\n",
              "user_answer                             0\n",
              "answered_correctly                      0\n",
              "prior_question_elapsed_time       2351538\n",
              "prior_question_had_explanation     392506\n",
              "dtype: int64"
            ]
          },
          "metadata": {
            "tags": []
          },
          "execution_count": 8
        }
      ]
    },
    {
      "cell_type": "code",
      "metadata": {
        "colab": {
          "base_uri": "https://localhost:8080/"
        },
        "id": "I58UfhogiDHV",
        "outputId": "92190ed7-5244-4a36-a2b6-0083a165afd6"
      },
      "source": [
        "%%time\n",
        "df_modin_ray.isna().sum()"
      ],
      "execution_count": null,
      "outputs": [
        {
          "output_type": "stream",
          "text": [
            "CPU times: user 853 ms, sys: 533 ms, total: 1.39 s\n",
            "Wall time: 28.9 s\n"
          ],
          "name": "stdout"
        },
        {
          "output_type": "execute_result",
          "data": {
            "text/plain": [
              "row_id                                  0\n",
              "timestamp                               0\n",
              "user_id                                 0\n",
              "content_id                              0\n",
              "content_type_id                         0\n",
              "task_container_id                       0\n",
              "user_answer                             0\n",
              "answered_correctly                      0\n",
              "prior_question_elapsed_time       2351538\n",
              "prior_question_had_explanation     392506\n",
              "dtype: int64"
            ]
          },
          "metadata": {
            "tags": []
          },
          "execution_count": 11
        }
      ]
    },
    {
      "cell_type": "code",
      "metadata": {
        "colab": {
          "base_uri": "https://localhost:8080/"
        },
        "id": "7dgdNCVXlQia",
        "outputId": "f03c182a-2c56-457f-ca50-e97064d4d15f"
      },
      "source": [
        "%%time\n",
        "df_modin.isna().sum()"
      ],
      "execution_count": null,
      "outputs": [
        {
          "output_type": "stream",
          "text": [
            "CPU times: user 936 ms, sys: 669 ms, total: 1.6 s\n",
            "Wall time: 29.2 s\n"
          ],
          "name": "stdout"
        },
        {
          "output_type": "execute_result",
          "data": {
            "text/plain": [
              "row_id                                  0\n",
              "timestamp                               0\n",
              "user_id                                 0\n",
              "content_id                              0\n",
              "content_type_id                         0\n",
              "task_container_id                       0\n",
              "user_answer                             0\n",
              "answered_correctly                      0\n",
              "prior_question_elapsed_time       2351538\n",
              "prior_question_had_explanation     392506\n",
              "dtype: int64"
            ]
          },
          "metadata": {
            "tags": []
          },
          "execution_count": 11
        }
      ]
    },
    {
      "cell_type": "markdown",
      "metadata": {
        "id": "esG-gtASCi6z"
      },
      "source": [
        "## Pandas is the fastest to check the null values count!"
      ]
    },
    {
      "cell_type": "markdown",
      "metadata": {
        "id": "jwytLHfrS4ko"
      },
      "source": [
        "## Drop rows containing null values"
      ]
    },
    {
      "cell_type": "code",
      "metadata": {
        "colab": {
          "base_uri": "https://localhost:8080/",
          "height": 473
        },
        "id": "-RXecU96S6fl",
        "outputId": "dcaef99e-79c9-4e96-c57a-f77c13668155"
      },
      "source": [
        "%%time\n",
        "df_pandas.dropna(subset=['prior_question_elapsed_time', 'prior_question_had_explanation'])"
      ],
      "execution_count": null,
      "outputs": [
        {
          "output_type": "stream",
          "text": [
            "CPU times: user 6.38 s, sys: 3.51 s, total: 9.88 s\n",
            "Wall time: 9.87 s\n"
          ],
          "name": "stdout"
        },
        {
          "output_type": "execute_result",
          "data": {
            "text/html": [
              "<div>\n",
              "<style scoped>\n",
              "    .dataframe tbody tr th:only-of-type {\n",
              "        vertical-align: middle;\n",
              "    }\n",
              "\n",
              "    .dataframe tbody tr th {\n",
              "        vertical-align: top;\n",
              "    }\n",
              "\n",
              "    .dataframe thead th {\n",
              "        text-align: right;\n",
              "    }\n",
              "</style>\n",
              "<table border=\"1\" class=\"dataframe\">\n",
              "  <thead>\n",
              "    <tr style=\"text-align: right;\">\n",
              "      <th></th>\n",
              "      <th>row_id</th>\n",
              "      <th>timestamp</th>\n",
              "      <th>user_id</th>\n",
              "      <th>content_id</th>\n",
              "      <th>content_type_id</th>\n",
              "      <th>task_container_id</th>\n",
              "      <th>user_answer</th>\n",
              "      <th>answered_correctly</th>\n",
              "      <th>prior_question_elapsed_time</th>\n",
              "      <th>prior_question_had_explanation</th>\n",
              "    </tr>\n",
              "  </thead>\n",
              "  <tbody>\n",
              "    <tr>\n",
              "      <th>1</th>\n",
              "      <td>1</td>\n",
              "      <td>56943</td>\n",
              "      <td>115</td>\n",
              "      <td>5716</td>\n",
              "      <td>False</td>\n",
              "      <td>2</td>\n",
              "      <td>2</td>\n",
              "      <td>1</td>\n",
              "      <td>37000.0</td>\n",
              "      <td>False</td>\n",
              "    </tr>\n",
              "    <tr>\n",
              "      <th>2</th>\n",
              "      <td>2</td>\n",
              "      <td>118363</td>\n",
              "      <td>115</td>\n",
              "      <td>128</td>\n",
              "      <td>False</td>\n",
              "      <td>0</td>\n",
              "      <td>0</td>\n",
              "      <td>1</td>\n",
              "      <td>55000.0</td>\n",
              "      <td>False</td>\n",
              "    </tr>\n",
              "    <tr>\n",
              "      <th>3</th>\n",
              "      <td>3</td>\n",
              "      <td>131167</td>\n",
              "      <td>115</td>\n",
              "      <td>7860</td>\n",
              "      <td>False</td>\n",
              "      <td>3</td>\n",
              "      <td>0</td>\n",
              "      <td>1</td>\n",
              "      <td>19000.0</td>\n",
              "      <td>False</td>\n",
              "    </tr>\n",
              "    <tr>\n",
              "      <th>4</th>\n",
              "      <td>4</td>\n",
              "      <td>137965</td>\n",
              "      <td>115</td>\n",
              "      <td>7922</td>\n",
              "      <td>False</td>\n",
              "      <td>4</td>\n",
              "      <td>1</td>\n",
              "      <td>1</td>\n",
              "      <td>11000.0</td>\n",
              "      <td>False</td>\n",
              "    </tr>\n",
              "    <tr>\n",
              "      <th>5</th>\n",
              "      <td>5</td>\n",
              "      <td>157063</td>\n",
              "      <td>115</td>\n",
              "      <td>156</td>\n",
              "      <td>False</td>\n",
              "      <td>5</td>\n",
              "      <td>2</td>\n",
              "      <td>1</td>\n",
              "      <td>5000.0</td>\n",
              "      <td>False</td>\n",
              "    </tr>\n",
              "    <tr>\n",
              "      <th>...</th>\n",
              "      <td>...</td>\n",
              "      <td>...</td>\n",
              "      <td>...</td>\n",
              "      <td>...</td>\n",
              "      <td>...</td>\n",
              "      <td>...</td>\n",
              "      <td>...</td>\n",
              "      <td>...</td>\n",
              "      <td>...</td>\n",
              "      <td>...</td>\n",
              "    </tr>\n",
              "    <tr>\n",
              "      <th>101230327</th>\n",
              "      <td>101230327</td>\n",
              "      <td>428564420</td>\n",
              "      <td>2147482888</td>\n",
              "      <td>3586</td>\n",
              "      <td>False</td>\n",
              "      <td>22</td>\n",
              "      <td>0</td>\n",
              "      <td>1</td>\n",
              "      <td>18000.0</td>\n",
              "      <td>True</td>\n",
              "    </tr>\n",
              "    <tr>\n",
              "      <th>101230328</th>\n",
              "      <td>101230328</td>\n",
              "      <td>428585000</td>\n",
              "      <td>2147482888</td>\n",
              "      <td>6341</td>\n",
              "      <td>False</td>\n",
              "      <td>23</td>\n",
              "      <td>3</td>\n",
              "      <td>1</td>\n",
              "      <td>14000.0</td>\n",
              "      <td>True</td>\n",
              "    </tr>\n",
              "    <tr>\n",
              "      <th>101230329</th>\n",
              "      <td>101230329</td>\n",
              "      <td>428613475</td>\n",
              "      <td>2147482888</td>\n",
              "      <td>4212</td>\n",
              "      <td>False</td>\n",
              "      <td>24</td>\n",
              "      <td>3</td>\n",
              "      <td>1</td>\n",
              "      <td>14000.0</td>\n",
              "      <td>True</td>\n",
              "    </tr>\n",
              "    <tr>\n",
              "      <th>101230330</th>\n",
              "      <td>101230330</td>\n",
              "      <td>428649406</td>\n",
              "      <td>2147482888</td>\n",
              "      <td>6343</td>\n",
              "      <td>False</td>\n",
              "      <td>25</td>\n",
              "      <td>1</td>\n",
              "      <td>0</td>\n",
              "      <td>22000.0</td>\n",
              "      <td>True</td>\n",
              "    </tr>\n",
              "    <tr>\n",
              "      <th>101230331</th>\n",
              "      <td>101230331</td>\n",
              "      <td>428692118</td>\n",
              "      <td>2147482888</td>\n",
              "      <td>7995</td>\n",
              "      <td>False</td>\n",
              "      <td>26</td>\n",
              "      <td>3</td>\n",
              "      <td>1</td>\n",
              "      <td>29000.0</td>\n",
              "      <td>True</td>\n",
              "    </tr>\n",
              "  </tbody>\n",
              "</table>\n",
              "<p>98878794 rows × 10 columns</p>\n",
              "</div>"
            ],
            "text/plain": [
              "              row_id  ...  prior_question_had_explanation\n",
              "1                  1  ...                           False\n",
              "2                  2  ...                           False\n",
              "3                  3  ...                           False\n",
              "4                  4  ...                           False\n",
              "5                  5  ...                           False\n",
              "...              ...  ...                             ...\n",
              "101230327  101230327  ...                            True\n",
              "101230328  101230328  ...                            True\n",
              "101230329  101230329  ...                            True\n",
              "101230330  101230330  ...                            True\n",
              "101230331  101230331  ...                            True\n",
              "\n",
              "[98878794 rows x 10 columns]"
            ]
          },
          "metadata": {
            "tags": []
          },
          "execution_count": 10
        }
      ]
    },
    {
      "cell_type": "code",
      "metadata": {
        "colab": {
          "base_uri": "https://localhost:8080/",
          "height": 473
        },
        "id": "_c-IQ4owTQTK",
        "outputId": "a16a26b2-6755-433c-e387-7e28f994fe96"
      },
      "source": [
        "%%time\n",
        "df_dask.dropna(subset=['prior_question_elapsed_time', 'prior_question_had_explanation']).compute()"
      ],
      "execution_count": null,
      "outputs": [
        {
          "output_type": "stream",
          "text": [
            "CPU times: user 4min 47s, sys: 14.8 s, total: 5min 2s\n",
            "Wall time: 3min 49s\n"
          ],
          "name": "stdout"
        },
        {
          "output_type": "execute_result",
          "data": {
            "text/html": [
              "<div>\n",
              "<style scoped>\n",
              "    .dataframe tbody tr th:only-of-type {\n",
              "        vertical-align: middle;\n",
              "    }\n",
              "\n",
              "    .dataframe tbody tr th {\n",
              "        vertical-align: top;\n",
              "    }\n",
              "\n",
              "    .dataframe thead th {\n",
              "        text-align: right;\n",
              "    }\n",
              "</style>\n",
              "<table border=\"1\" class=\"dataframe\">\n",
              "  <thead>\n",
              "    <tr style=\"text-align: right;\">\n",
              "      <th></th>\n",
              "      <th>row_id</th>\n",
              "      <th>timestamp</th>\n",
              "      <th>user_id</th>\n",
              "      <th>content_id</th>\n",
              "      <th>content_type_id</th>\n",
              "      <th>task_container_id</th>\n",
              "      <th>user_answer</th>\n",
              "      <th>answered_correctly</th>\n",
              "      <th>prior_question_elapsed_time</th>\n",
              "      <th>prior_question_had_explanation</th>\n",
              "    </tr>\n",
              "  </thead>\n",
              "  <tbody>\n",
              "    <tr>\n",
              "      <th>1</th>\n",
              "      <td>1</td>\n",
              "      <td>56943</td>\n",
              "      <td>115</td>\n",
              "      <td>5716</td>\n",
              "      <td>False</td>\n",
              "      <td>2</td>\n",
              "      <td>2</td>\n",
              "      <td>1</td>\n",
              "      <td>37000.0</td>\n",
              "      <td>False</td>\n",
              "    </tr>\n",
              "    <tr>\n",
              "      <th>2</th>\n",
              "      <td>2</td>\n",
              "      <td>118363</td>\n",
              "      <td>115</td>\n",
              "      <td>128</td>\n",
              "      <td>False</td>\n",
              "      <td>0</td>\n",
              "      <td>0</td>\n",
              "      <td>1</td>\n",
              "      <td>55000.0</td>\n",
              "      <td>False</td>\n",
              "    </tr>\n",
              "    <tr>\n",
              "      <th>3</th>\n",
              "      <td>3</td>\n",
              "      <td>131167</td>\n",
              "      <td>115</td>\n",
              "      <td>7860</td>\n",
              "      <td>False</td>\n",
              "      <td>3</td>\n",
              "      <td>0</td>\n",
              "      <td>1</td>\n",
              "      <td>19000.0</td>\n",
              "      <td>False</td>\n",
              "    </tr>\n",
              "    <tr>\n",
              "      <th>4</th>\n",
              "      <td>4</td>\n",
              "      <td>137965</td>\n",
              "      <td>115</td>\n",
              "      <td>7922</td>\n",
              "      <td>False</td>\n",
              "      <td>4</td>\n",
              "      <td>1</td>\n",
              "      <td>1</td>\n",
              "      <td>11000.0</td>\n",
              "      <td>False</td>\n",
              "    </tr>\n",
              "    <tr>\n",
              "      <th>5</th>\n",
              "      <td>5</td>\n",
              "      <td>157063</td>\n",
              "      <td>115</td>\n",
              "      <td>156</td>\n",
              "      <td>False</td>\n",
              "      <td>5</td>\n",
              "      <td>2</td>\n",
              "      <td>1</td>\n",
              "      <td>5000.0</td>\n",
              "      <td>False</td>\n",
              "    </tr>\n",
              "    <tr>\n",
              "      <th>...</th>\n",
              "      <td>...</td>\n",
              "      <td>...</td>\n",
              "      <td>...</td>\n",
              "      <td>...</td>\n",
              "      <td>...</td>\n",
              "      <td>...</td>\n",
              "      <td>...</td>\n",
              "      <td>...</td>\n",
              "      <td>...</td>\n",
              "      <td>...</td>\n",
              "    </tr>\n",
              "    <tr>\n",
              "      <th>382399</th>\n",
              "      <td>101230327</td>\n",
              "      <td>428564420</td>\n",
              "      <td>2147482888</td>\n",
              "      <td>3586</td>\n",
              "      <td>False</td>\n",
              "      <td>22</td>\n",
              "      <td>0</td>\n",
              "      <td>1</td>\n",
              "      <td>18000.0</td>\n",
              "      <td>True</td>\n",
              "    </tr>\n",
              "    <tr>\n",
              "      <th>382400</th>\n",
              "      <td>101230328</td>\n",
              "      <td>428585000</td>\n",
              "      <td>2147482888</td>\n",
              "      <td>6341</td>\n",
              "      <td>False</td>\n",
              "      <td>23</td>\n",
              "      <td>3</td>\n",
              "      <td>1</td>\n",
              "      <td>14000.0</td>\n",
              "      <td>True</td>\n",
              "    </tr>\n",
              "    <tr>\n",
              "      <th>382401</th>\n",
              "      <td>101230329</td>\n",
              "      <td>428613475</td>\n",
              "      <td>2147482888</td>\n",
              "      <td>4212</td>\n",
              "      <td>False</td>\n",
              "      <td>24</td>\n",
              "      <td>3</td>\n",
              "      <td>1</td>\n",
              "      <td>14000.0</td>\n",
              "      <td>True</td>\n",
              "    </tr>\n",
              "    <tr>\n",
              "      <th>382402</th>\n",
              "      <td>101230330</td>\n",
              "      <td>428649406</td>\n",
              "      <td>2147482888</td>\n",
              "      <td>6343</td>\n",
              "      <td>False</td>\n",
              "      <td>25</td>\n",
              "      <td>1</td>\n",
              "      <td>0</td>\n",
              "      <td>22000.0</td>\n",
              "      <td>True</td>\n",
              "    </tr>\n",
              "    <tr>\n",
              "      <th>382403</th>\n",
              "      <td>101230331</td>\n",
              "      <td>428692118</td>\n",
              "      <td>2147482888</td>\n",
              "      <td>7995</td>\n",
              "      <td>False</td>\n",
              "      <td>26</td>\n",
              "      <td>3</td>\n",
              "      <td>1</td>\n",
              "      <td>29000.0</td>\n",
              "      <td>True</td>\n",
              "    </tr>\n",
              "  </tbody>\n",
              "</table>\n",
              "<p>98878794 rows × 10 columns</p>\n",
              "</div>"
            ],
            "text/plain": [
              "           row_id  ...  prior_question_had_explanation\n",
              "1               1  ...                           False\n",
              "2               2  ...                           False\n",
              "3               3  ...                           False\n",
              "4               4  ...                           False\n",
              "5               5  ...                           False\n",
              "...           ...  ...                             ...\n",
              "382399  101230327  ...                            True\n",
              "382400  101230328  ...                            True\n",
              "382401  101230329  ...                            True\n",
              "382402  101230330  ...                            True\n",
              "382403  101230331  ...                            True\n",
              "\n",
              "[98878794 rows x 10 columns]"
            ]
          },
          "metadata": {
            "tags": []
          },
          "execution_count": 9
        }
      ]
    },
    {
      "cell_type": "code",
      "metadata": {
        "colab": {
          "base_uri": "https://localhost:8080/",
          "height": 473
        },
        "id": "lS2SxZHMiITm",
        "outputId": "87b98a30-dbde-4429-f99b-01575631454b"
      },
      "source": [
        "%%time\n",
        "df_modin_ray.dropna(subset=['prior_question_elapsed_time', 'prior_question_had_explanation'])"
      ],
      "execution_count": null,
      "outputs": [
        {
          "output_type": "stream",
          "text": [
            "CPU times: user 3.44 s, sys: 1.4 s, total: 4.83 s\n",
            "Wall time: 1min 46s\n"
          ],
          "name": "stdout"
        },
        {
          "output_type": "execute_result",
          "data": {
            "text/html": [
              "<div>\n",
              "<style scoped>\n",
              "    .dataframe tbody tr th:only-of-type {\n",
              "        vertical-align: middle;\n",
              "    }\n",
              "\n",
              "    .dataframe tbody tr th {\n",
              "        vertical-align: top;\n",
              "    }\n",
              "\n",
              "    .dataframe thead th {\n",
              "        text-align: right;\n",
              "    }\n",
              "</style>\n",
              "<table border=\"1\" class=\"dataframe\">\n",
              "  <thead>\n",
              "    <tr style=\"text-align: right;\">\n",
              "      <th></th>\n",
              "      <th>row_id</th>\n",
              "      <th>timestamp</th>\n",
              "      <th>user_id</th>\n",
              "      <th>content_id</th>\n",
              "      <th>content_type_id</th>\n",
              "      <th>task_container_id</th>\n",
              "      <th>user_answer</th>\n",
              "      <th>answered_correctly</th>\n",
              "      <th>prior_question_elapsed_time</th>\n",
              "      <th>prior_question_had_explanation</th>\n",
              "    </tr>\n",
              "  </thead>\n",
              "  <tbody>\n",
              "    <tr>\n",
              "      <th>1</th>\n",
              "      <td>1</td>\n",
              "      <td>56943</td>\n",
              "      <td>115</td>\n",
              "      <td>5716</td>\n",
              "      <td>False</td>\n",
              "      <td>2</td>\n",
              "      <td>2</td>\n",
              "      <td>1</td>\n",
              "      <td>37000.0</td>\n",
              "      <td>False</td>\n",
              "    </tr>\n",
              "    <tr>\n",
              "      <th>2</th>\n",
              "      <td>2</td>\n",
              "      <td>118363</td>\n",
              "      <td>115</td>\n",
              "      <td>128</td>\n",
              "      <td>False</td>\n",
              "      <td>0</td>\n",
              "      <td>0</td>\n",
              "      <td>1</td>\n",
              "      <td>55000.0</td>\n",
              "      <td>False</td>\n",
              "    </tr>\n",
              "    <tr>\n",
              "      <th>3</th>\n",
              "      <td>3</td>\n",
              "      <td>131167</td>\n",
              "      <td>115</td>\n",
              "      <td>7860</td>\n",
              "      <td>False</td>\n",
              "      <td>3</td>\n",
              "      <td>0</td>\n",
              "      <td>1</td>\n",
              "      <td>19000.0</td>\n",
              "      <td>False</td>\n",
              "    </tr>\n",
              "    <tr>\n",
              "      <th>4</th>\n",
              "      <td>4</td>\n",
              "      <td>137965</td>\n",
              "      <td>115</td>\n",
              "      <td>7922</td>\n",
              "      <td>False</td>\n",
              "      <td>4</td>\n",
              "      <td>1</td>\n",
              "      <td>1</td>\n",
              "      <td>11000.0</td>\n",
              "      <td>False</td>\n",
              "    </tr>\n",
              "    <tr>\n",
              "      <th>5</th>\n",
              "      <td>5</td>\n",
              "      <td>157063</td>\n",
              "      <td>115</td>\n",
              "      <td>156</td>\n",
              "      <td>False</td>\n",
              "      <td>5</td>\n",
              "      <td>2</td>\n",
              "      <td>1</td>\n",
              "      <td>5000.0</td>\n",
              "      <td>False</td>\n",
              "    </tr>\n",
              "    <tr>\n",
              "      <th>...</th>\n",
              "      <td>...</td>\n",
              "      <td>...</td>\n",
              "      <td>...</td>\n",
              "      <td>...</td>\n",
              "      <td>...</td>\n",
              "      <td>...</td>\n",
              "      <td>...</td>\n",
              "      <td>...</td>\n",
              "      <td>...</td>\n",
              "      <td>...</td>\n",
              "    </tr>\n",
              "    <tr>\n",
              "      <th>101230327</th>\n",
              "      <td>101230327</td>\n",
              "      <td>428564420</td>\n",
              "      <td>2147482888</td>\n",
              "      <td>3586</td>\n",
              "      <td>False</td>\n",
              "      <td>22</td>\n",
              "      <td>0</td>\n",
              "      <td>1</td>\n",
              "      <td>18000.0</td>\n",
              "      <td>True</td>\n",
              "    </tr>\n",
              "    <tr>\n",
              "      <th>101230328</th>\n",
              "      <td>101230328</td>\n",
              "      <td>428585000</td>\n",
              "      <td>2147482888</td>\n",
              "      <td>6341</td>\n",
              "      <td>False</td>\n",
              "      <td>23</td>\n",
              "      <td>3</td>\n",
              "      <td>1</td>\n",
              "      <td>14000.0</td>\n",
              "      <td>True</td>\n",
              "    </tr>\n",
              "    <tr>\n",
              "      <th>101230329</th>\n",
              "      <td>101230329</td>\n",
              "      <td>428613475</td>\n",
              "      <td>2147482888</td>\n",
              "      <td>4212</td>\n",
              "      <td>False</td>\n",
              "      <td>24</td>\n",
              "      <td>3</td>\n",
              "      <td>1</td>\n",
              "      <td>14000.0</td>\n",
              "      <td>True</td>\n",
              "    </tr>\n",
              "    <tr>\n",
              "      <th>101230330</th>\n",
              "      <td>101230330</td>\n",
              "      <td>428649406</td>\n",
              "      <td>2147482888</td>\n",
              "      <td>6343</td>\n",
              "      <td>False</td>\n",
              "      <td>25</td>\n",
              "      <td>1</td>\n",
              "      <td>0</td>\n",
              "      <td>22000.0</td>\n",
              "      <td>True</td>\n",
              "    </tr>\n",
              "    <tr>\n",
              "      <th>101230331</th>\n",
              "      <td>101230331</td>\n",
              "      <td>428692118</td>\n",
              "      <td>2147482888</td>\n",
              "      <td>7995</td>\n",
              "      <td>False</td>\n",
              "      <td>26</td>\n",
              "      <td>3</td>\n",
              "      <td>1</td>\n",
              "      <td>29000.0</td>\n",
              "      <td>True</td>\n",
              "    </tr>\n",
              "  </tbody>\n",
              "</table>\n",
              "<p>98878794 rows x 10 columns</p>\n",
              "</div>"
            ],
            "text/plain": [
              "              row_id  ...  prior_question_had_explanation\n",
              "1                  1  ...                           False\n",
              "2                  2  ...                           False\n",
              "3                  3  ...                           False\n",
              "4                  4  ...                           False\n",
              "5                  5  ...                           False\n",
              "...              ...  ...                             ...\n",
              "101230327  101230327  ...                            True\n",
              "101230328  101230328  ...                            True\n",
              "101230329  101230329  ...                            True\n",
              "101230330  101230330  ...                            True\n",
              "101230331  101230331  ...                            True\n",
              "\n",
              "[98878794 rows x 10 columns]"
            ]
          },
          "metadata": {
            "tags": []
          },
          "execution_count": 12
        }
      ]
    },
    {
      "cell_type": "code",
      "metadata": {
        "colab": {
          "base_uri": "https://localhost:8080/",
          "height": 473
        },
        "id": "Ne7gkEhVlS72",
        "outputId": "e9b7ab31-6a3e-49e1-ac12-f82371e08b6b"
      },
      "source": [
        "%%time\n",
        "df_modin.dropna(subset=['prior_question_elapsed_time', 'prior_question_had_explanation'])"
      ],
      "execution_count": null,
      "outputs": [
        {
          "output_type": "stream",
          "text": [
            "CPU times: user 3.7 s, sys: 1.52 s, total: 5.22 s\n",
            "Wall time: 1min 50s\n"
          ],
          "name": "stdout"
        },
        {
          "output_type": "execute_result",
          "data": {
            "text/html": [
              "<div>\n",
              "<style scoped>\n",
              "    .dataframe tbody tr th:only-of-type {\n",
              "        vertical-align: middle;\n",
              "    }\n",
              "\n",
              "    .dataframe tbody tr th {\n",
              "        vertical-align: top;\n",
              "    }\n",
              "\n",
              "    .dataframe thead th {\n",
              "        text-align: right;\n",
              "    }\n",
              "</style>\n",
              "<table border=\"1\" class=\"dataframe\">\n",
              "  <thead>\n",
              "    <tr style=\"text-align: right;\">\n",
              "      <th></th>\n",
              "      <th>row_id</th>\n",
              "      <th>timestamp</th>\n",
              "      <th>user_id</th>\n",
              "      <th>content_id</th>\n",
              "      <th>content_type_id</th>\n",
              "      <th>task_container_id</th>\n",
              "      <th>user_answer</th>\n",
              "      <th>answered_correctly</th>\n",
              "      <th>prior_question_elapsed_time</th>\n",
              "      <th>prior_question_had_explanation</th>\n",
              "    </tr>\n",
              "  </thead>\n",
              "  <tbody>\n",
              "    <tr>\n",
              "      <th>1</th>\n",
              "      <td>1</td>\n",
              "      <td>56943</td>\n",
              "      <td>115</td>\n",
              "      <td>5716</td>\n",
              "      <td>False</td>\n",
              "      <td>2</td>\n",
              "      <td>2</td>\n",
              "      <td>1</td>\n",
              "      <td>37000.0</td>\n",
              "      <td>False</td>\n",
              "    </tr>\n",
              "    <tr>\n",
              "      <th>2</th>\n",
              "      <td>2</td>\n",
              "      <td>118363</td>\n",
              "      <td>115</td>\n",
              "      <td>128</td>\n",
              "      <td>False</td>\n",
              "      <td>0</td>\n",
              "      <td>0</td>\n",
              "      <td>1</td>\n",
              "      <td>55000.0</td>\n",
              "      <td>False</td>\n",
              "    </tr>\n",
              "    <tr>\n",
              "      <th>3</th>\n",
              "      <td>3</td>\n",
              "      <td>131167</td>\n",
              "      <td>115</td>\n",
              "      <td>7860</td>\n",
              "      <td>False</td>\n",
              "      <td>3</td>\n",
              "      <td>0</td>\n",
              "      <td>1</td>\n",
              "      <td>19000.0</td>\n",
              "      <td>False</td>\n",
              "    </tr>\n",
              "    <tr>\n",
              "      <th>4</th>\n",
              "      <td>4</td>\n",
              "      <td>137965</td>\n",
              "      <td>115</td>\n",
              "      <td>7922</td>\n",
              "      <td>False</td>\n",
              "      <td>4</td>\n",
              "      <td>1</td>\n",
              "      <td>1</td>\n",
              "      <td>11000.0</td>\n",
              "      <td>False</td>\n",
              "    </tr>\n",
              "    <tr>\n",
              "      <th>5</th>\n",
              "      <td>5</td>\n",
              "      <td>157063</td>\n",
              "      <td>115</td>\n",
              "      <td>156</td>\n",
              "      <td>False</td>\n",
              "      <td>5</td>\n",
              "      <td>2</td>\n",
              "      <td>1</td>\n",
              "      <td>5000.0</td>\n",
              "      <td>False</td>\n",
              "    </tr>\n",
              "    <tr>\n",
              "      <th>...</th>\n",
              "      <td>...</td>\n",
              "      <td>...</td>\n",
              "      <td>...</td>\n",
              "      <td>...</td>\n",
              "      <td>...</td>\n",
              "      <td>...</td>\n",
              "      <td>...</td>\n",
              "      <td>...</td>\n",
              "      <td>...</td>\n",
              "      <td>...</td>\n",
              "    </tr>\n",
              "    <tr>\n",
              "      <th>101230327</th>\n",
              "      <td>101230327</td>\n",
              "      <td>428564420</td>\n",
              "      <td>2147482888</td>\n",
              "      <td>3586</td>\n",
              "      <td>False</td>\n",
              "      <td>22</td>\n",
              "      <td>0</td>\n",
              "      <td>1</td>\n",
              "      <td>18000.0</td>\n",
              "      <td>True</td>\n",
              "    </tr>\n",
              "    <tr>\n",
              "      <th>101230328</th>\n",
              "      <td>101230328</td>\n",
              "      <td>428585000</td>\n",
              "      <td>2147482888</td>\n",
              "      <td>6341</td>\n",
              "      <td>False</td>\n",
              "      <td>23</td>\n",
              "      <td>3</td>\n",
              "      <td>1</td>\n",
              "      <td>14000.0</td>\n",
              "      <td>True</td>\n",
              "    </tr>\n",
              "    <tr>\n",
              "      <th>101230329</th>\n",
              "      <td>101230329</td>\n",
              "      <td>428613475</td>\n",
              "      <td>2147482888</td>\n",
              "      <td>4212</td>\n",
              "      <td>False</td>\n",
              "      <td>24</td>\n",
              "      <td>3</td>\n",
              "      <td>1</td>\n",
              "      <td>14000.0</td>\n",
              "      <td>True</td>\n",
              "    </tr>\n",
              "    <tr>\n",
              "      <th>101230330</th>\n",
              "      <td>101230330</td>\n",
              "      <td>428649406</td>\n",
              "      <td>2147482888</td>\n",
              "      <td>6343</td>\n",
              "      <td>False</td>\n",
              "      <td>25</td>\n",
              "      <td>1</td>\n",
              "      <td>0</td>\n",
              "      <td>22000.0</td>\n",
              "      <td>True</td>\n",
              "    </tr>\n",
              "    <tr>\n",
              "      <th>101230331</th>\n",
              "      <td>101230331</td>\n",
              "      <td>428692118</td>\n",
              "      <td>2147482888</td>\n",
              "      <td>7995</td>\n",
              "      <td>False</td>\n",
              "      <td>26</td>\n",
              "      <td>3</td>\n",
              "      <td>1</td>\n",
              "      <td>29000.0</td>\n",
              "      <td>True</td>\n",
              "    </tr>\n",
              "  </tbody>\n",
              "</table>\n",
              "<p>98878794 rows x 10 columns</p>\n",
              "</div>"
            ],
            "text/plain": [
              "              row_id  ...  prior_question_had_explanation\n",
              "1                  1  ...                           False\n",
              "2                  2  ...                           False\n",
              "3                  3  ...                           False\n",
              "4                  4  ...                           False\n",
              "5                  5  ...                           False\n",
              "...              ...  ...                             ...\n",
              "101230327  101230327  ...                            True\n",
              "101230328  101230328  ...                            True\n",
              "101230329  101230329  ...                            True\n",
              "101230330  101230330  ...                            True\n",
              "101230331  101230331  ...                            True\n",
              "\n",
              "[98878794 rows x 10 columns]"
            ]
          },
          "metadata": {
            "tags": []
          },
          "execution_count": 12
        }
      ]
    },
    {
      "cell_type": "markdown",
      "metadata": {
        "id": "8hSWW9yxCrov"
      },
      "source": [
        "## Pandas is the fastest to drop the rows containing null values!"
      ]
    },
    {
      "cell_type": "markdown",
      "metadata": {
        "id": "gMWcfwfRVWsT"
      },
      "source": [
        "## Drop columns"
      ]
    },
    {
      "cell_type": "code",
      "metadata": {
        "colab": {
          "base_uri": "https://localhost:8080/"
        },
        "id": "9ubJmyAAVZFU",
        "outputId": "e334a2cc-fccb-457f-f27b-1473df48151e"
      },
      "source": [
        "%%time\n",
        "df_pandas.drop(['row_id', 'timestamp'], axis=1, inplace=True)"
      ],
      "execution_count": null,
      "outputs": [
        {
          "output_type": "stream",
          "text": [
            "CPU times: user 753 ms, sys: 112 ms, total: 865 ms\n",
            "Wall time: 870 ms\n"
          ],
          "name": "stdout"
        }
      ]
    },
    {
      "cell_type": "code",
      "metadata": {
        "colab": {
          "base_uri": "https://localhost:8080/",
          "height": 453
        },
        "id": "poqP-l-gVnoz",
        "outputId": "a6b2a676-c62e-46f5-bb6f-2b6d06346d4c"
      },
      "source": [
        "%%time\n",
        "df_dask.drop(['row_id', 'timestamp'], axis=1).compute()"
      ],
      "execution_count": null,
      "outputs": [
        {
          "output_type": "stream",
          "text": [
            "CPU times: user 4min 20s, sys: 9.32 s, total: 4min 29s\n",
            "Wall time: 3min 54s\n"
          ],
          "name": "stdout"
        },
        {
          "output_type": "execute_result",
          "data": {
            "text/html": [
              "<div>\n",
              "<style scoped>\n",
              "    .dataframe tbody tr th:only-of-type {\n",
              "        vertical-align: middle;\n",
              "    }\n",
              "\n",
              "    .dataframe tbody tr th {\n",
              "        vertical-align: top;\n",
              "    }\n",
              "\n",
              "    .dataframe thead th {\n",
              "        text-align: right;\n",
              "    }\n",
              "</style>\n",
              "<table border=\"1\" class=\"dataframe\">\n",
              "  <thead>\n",
              "    <tr style=\"text-align: right;\">\n",
              "      <th></th>\n",
              "      <th>user_id</th>\n",
              "      <th>content_id</th>\n",
              "      <th>content_type_id</th>\n",
              "      <th>task_container_id</th>\n",
              "      <th>user_answer</th>\n",
              "      <th>answered_correctly</th>\n",
              "      <th>prior_question_elapsed_time</th>\n",
              "      <th>prior_question_had_explanation</th>\n",
              "    </tr>\n",
              "  </thead>\n",
              "  <tbody>\n",
              "    <tr>\n",
              "      <th>0</th>\n",
              "      <td>115</td>\n",
              "      <td>5692</td>\n",
              "      <td>False</td>\n",
              "      <td>1</td>\n",
              "      <td>3</td>\n",
              "      <td>1</td>\n",
              "      <td>NaN</td>\n",
              "      <td>&lt;NA&gt;</td>\n",
              "    </tr>\n",
              "    <tr>\n",
              "      <th>1</th>\n",
              "      <td>115</td>\n",
              "      <td>5716</td>\n",
              "      <td>False</td>\n",
              "      <td>2</td>\n",
              "      <td>2</td>\n",
              "      <td>1</td>\n",
              "      <td>37000.0</td>\n",
              "      <td>False</td>\n",
              "    </tr>\n",
              "    <tr>\n",
              "      <th>2</th>\n",
              "      <td>115</td>\n",
              "      <td>128</td>\n",
              "      <td>False</td>\n",
              "      <td>0</td>\n",
              "      <td>0</td>\n",
              "      <td>1</td>\n",
              "      <td>55000.0</td>\n",
              "      <td>False</td>\n",
              "    </tr>\n",
              "    <tr>\n",
              "      <th>3</th>\n",
              "      <td>115</td>\n",
              "      <td>7860</td>\n",
              "      <td>False</td>\n",
              "      <td>3</td>\n",
              "      <td>0</td>\n",
              "      <td>1</td>\n",
              "      <td>19000.0</td>\n",
              "      <td>False</td>\n",
              "    </tr>\n",
              "    <tr>\n",
              "      <th>4</th>\n",
              "      <td>115</td>\n",
              "      <td>7922</td>\n",
              "      <td>False</td>\n",
              "      <td>4</td>\n",
              "      <td>1</td>\n",
              "      <td>1</td>\n",
              "      <td>11000.0</td>\n",
              "      <td>False</td>\n",
              "    </tr>\n",
              "    <tr>\n",
              "      <th>...</th>\n",
              "      <td>...</td>\n",
              "      <td>...</td>\n",
              "      <td>...</td>\n",
              "      <td>...</td>\n",
              "      <td>...</td>\n",
              "      <td>...</td>\n",
              "      <td>...</td>\n",
              "      <td>...</td>\n",
              "    </tr>\n",
              "    <tr>\n",
              "      <th>382399</th>\n",
              "      <td>2147482888</td>\n",
              "      <td>3586</td>\n",
              "      <td>False</td>\n",
              "      <td>22</td>\n",
              "      <td>0</td>\n",
              "      <td>1</td>\n",
              "      <td>18000.0</td>\n",
              "      <td>True</td>\n",
              "    </tr>\n",
              "    <tr>\n",
              "      <th>382400</th>\n",
              "      <td>2147482888</td>\n",
              "      <td>6341</td>\n",
              "      <td>False</td>\n",
              "      <td>23</td>\n",
              "      <td>3</td>\n",
              "      <td>1</td>\n",
              "      <td>14000.0</td>\n",
              "      <td>True</td>\n",
              "    </tr>\n",
              "    <tr>\n",
              "      <th>382401</th>\n",
              "      <td>2147482888</td>\n",
              "      <td>4212</td>\n",
              "      <td>False</td>\n",
              "      <td>24</td>\n",
              "      <td>3</td>\n",
              "      <td>1</td>\n",
              "      <td>14000.0</td>\n",
              "      <td>True</td>\n",
              "    </tr>\n",
              "    <tr>\n",
              "      <th>382402</th>\n",
              "      <td>2147482888</td>\n",
              "      <td>6343</td>\n",
              "      <td>False</td>\n",
              "      <td>25</td>\n",
              "      <td>1</td>\n",
              "      <td>0</td>\n",
              "      <td>22000.0</td>\n",
              "      <td>True</td>\n",
              "    </tr>\n",
              "    <tr>\n",
              "      <th>382403</th>\n",
              "      <td>2147482888</td>\n",
              "      <td>7995</td>\n",
              "      <td>False</td>\n",
              "      <td>26</td>\n",
              "      <td>3</td>\n",
              "      <td>1</td>\n",
              "      <td>29000.0</td>\n",
              "      <td>True</td>\n",
              "    </tr>\n",
              "  </tbody>\n",
              "</table>\n",
              "<p>101230332 rows × 8 columns</p>\n",
              "</div>"
            ],
            "text/plain": [
              "           user_id  ...  prior_question_had_explanation\n",
              "0              115  ...                            <NA>\n",
              "1              115  ...                           False\n",
              "2              115  ...                           False\n",
              "3              115  ...                           False\n",
              "4              115  ...                           False\n",
              "...            ...  ...                             ...\n",
              "382399  2147482888  ...                            True\n",
              "382400  2147482888  ...                            True\n",
              "382401  2147482888  ...                            True\n",
              "382402  2147482888  ...                            True\n",
              "382403  2147482888  ...                            True\n",
              "\n",
              "[101230332 rows x 8 columns]"
            ]
          },
          "metadata": {
            "tags": []
          },
          "execution_count": 11
        }
      ]
    },
    {
      "cell_type": "code",
      "metadata": {
        "colab": {
          "base_uri": "https://localhost:8080/"
        },
        "id": "D0_abHQFiNjK",
        "outputId": "c88852c7-f41a-4f89-ed20-f5216dbf7e08"
      },
      "source": [
        "%%time\n",
        "df_modin_ray.drop(['row_id', 'timestamp'], axis=1, inplace=True)"
      ],
      "execution_count": null,
      "outputs": [
        {
          "output_type": "stream",
          "text": [
            "CPU times: user 2.4 ms, sys: 1.16 ms, total: 3.56 ms\n",
            "Wall time: 3.47 ms\n"
          ],
          "name": "stdout"
        }
      ]
    },
    {
      "cell_type": "code",
      "metadata": {
        "colab": {
          "base_uri": "https://localhost:8080/"
        },
        "id": "TBXrxxEPlU7V",
        "outputId": "46cecc64-2e33-4ddb-d39c-4fc317f11a90"
      },
      "source": [
        "%%time\n",
        "df_modin.drop(['row_id', 'timestamp'], axis=1, inplace=True)"
      ],
      "execution_count": null,
      "outputs": [
        {
          "output_type": "stream",
          "text": [
            "CPU times: user 2.4 ms, sys: 120 µs, total: 2.52 ms\n",
            "Wall time: 2.32 ms\n"
          ],
          "name": "stdout"
        }
      ]
    },
    {
      "cell_type": "markdown",
      "metadata": {
        "id": "0rJ5aUGaDJjT"
      },
      "source": [
        "## Modin is the fastest to drop columns!"
      ]
    },
    {
      "cell_type": "markdown",
      "metadata": {
        "id": "n7416rBwZ6ou"
      },
      "source": [
        "## Replace _ with white space"
      ]
    },
    {
      "cell_type": "code",
      "metadata": {
        "colab": {
          "base_uri": "https://localhost:8080/"
        },
        "id": "8uYw8FdbaT1z",
        "outputId": "a2598a0e-f699-45d5-b604-8ebcd94f3506"
      },
      "source": [
        "%%time\n",
        "df_pandas.columns = df_pandas.columns.str.replace('_', ' ')"
      ],
      "execution_count": null,
      "outputs": [
        {
          "output_type": "stream",
          "text": [
            "CPU times: user 610 µs, sys: 50 µs, total: 660 µs\n",
            "Wall time: 632 µs\n"
          ],
          "name": "stdout"
        }
      ]
    },
    {
      "cell_type": "code",
      "metadata": {
        "colab": {
          "base_uri": "https://localhost:8080/"
        },
        "id": "ueSwE9IrajZZ",
        "outputId": "d5aaa396-f272-4688-cf0d-cd30fd77eaac"
      },
      "source": [
        "%%time\n",
        "df_dask.columns = df_dask.columns.str.replace('_', ' ')"
      ],
      "execution_count": null,
      "outputs": [
        {
          "output_type": "stream",
          "text": [
            "CPU times: user 4.52 ms, sys: 0 ns, total: 4.52 ms\n",
            "Wall time: 7.62 ms\n"
          ],
          "name": "stdout"
        }
      ]
    },
    {
      "cell_type": "code",
      "metadata": {
        "colab": {
          "base_uri": "https://localhost:8080/"
        },
        "id": "kEHQPlytiW5Y",
        "outputId": "dc8eaebd-ca26-4255-d915-7d98870baac5"
      },
      "source": [
        "%%time\n",
        "df_modin_ray.columns = df_modin_ray.columns.str.replace('_', ' ')"
      ],
      "execution_count": null,
      "outputs": [
        {
          "output_type": "stream",
          "text": [
            "CPU times: user 2.37 ms, sys: 95 µs, total: 2.46 ms\n",
            "Wall time: 2.91 ms\n"
          ],
          "name": "stdout"
        }
      ]
    },
    {
      "cell_type": "code",
      "metadata": {
        "colab": {
          "base_uri": "https://localhost:8080/"
        },
        "id": "4ym3kPQolWrC",
        "outputId": "58aff245-d7b3-4141-f660-7b49bdd5c00d"
      },
      "source": [
        "%%time\n",
        "df_modin.columns = df_modin.columns.str.replace('_', ' ')"
      ],
      "execution_count": null,
      "outputs": [
        {
          "output_type": "stream",
          "text": [
            "CPU times: user 2.49 ms, sys: 0 ns, total: 2.49 ms\n",
            "Wall time: 7.41 ms\n"
          ],
          "name": "stdout"
        }
      ]
    },
    {
      "cell_type": "markdown",
      "metadata": {
        "id": "j1jtsx7nDQZN"
      },
      "source": [
        "## Pandas is the fastest to manipulate column names!"
      ]
    },
    {
      "cell_type": "markdown",
      "metadata": {
        "id": "1LJLPYqJoPBl"
      },
      "source": [
        "# PART 2"
      ]
    },
    {
      "cell_type": "markdown",
      "metadata": {
        "id": "DQr0FGC_vLqi"
      },
      "source": [
        "# Data Ingestion"
      ]
    },
    {
      "cell_type": "code",
      "metadata": {
        "id": "RrOgp5efaUBj",
        "colab": {
          "base_uri": "https://localhost:8080/"
        },
        "outputId": "cab30d26-be05-4e06-d8e4-dc53d1394b87"
      },
      "source": [
        "%%writefile testutility.py\n",
        "import logging\n",
        "import os\n",
        "import subprocess\n",
        "import yaml\n",
        "import pandas as pd\n",
        "import datetime \n",
        "import gc\n",
        "import re\n",
        "\n",
        "\n",
        "################\n",
        "# File Reading #\n",
        "################\n",
        "\n",
        "def read_config_file(filepath):\n",
        "    with open(filepath, 'r') as stream:\n",
        "        try:\n",
        "            return yaml.safe_load(stream)\n",
        "        except yaml.YAMLError as exc:\n",
        "            logging.error(exc)\n",
        "\n",
        "\n",
        "def replacer(string, char):\n",
        "    pattern = char + '{2,}'\n",
        "    string = re.sub(pattern, char, string) \n",
        "    return string\n",
        "\n",
        "def col_header_val(df, table_config):\n",
        "    cols = df.columns\n",
        "    cols = cols.str.strip()\n",
        "    cols.str.replace(\" \", \"_\")\n",
        "    expected_col = list(map(lambda x: x.lower(),  config_data['columns']))\n",
        "    cols = list(cols.sort_values())\n",
        "    expected_col.sort()\n",
        "    if len(cols) == len(expected_col) and cols == expected_col:\n",
        "      print(\"Column name and Column length Validation Passed!!\")\n",
        "      return 1\n",
        "    else:\n",
        "      print(\"Column name and Column length Validation Failed..\")\n",
        "      mismatched_columns_file = list(set(cols).difference(expected_col))\n",
        "      print(\"Following File columns are not in the YAML file\", mismatched_columns_file)\n",
        "      missing_YAML_file = list(set(expected_col).difference(cols))\n",
        "      print(\"Following YAML columns are not in the file uploaded\", missing_YAML_file)\n",
        "      logging.info(f'df columns: {cols}')\n",
        "      logging.info(f'expected columns: {expected_col}')\n",
        "      return 0\n",
        "\n",
        "def humanbytes(B):\n",
        "   'Return the given bytes as a human friendly KB, MB, GB, or TB string'\n",
        "   B = float(B)\n",
        "   KB = float(1024)\n",
        "   MB = float(KB ** 2) # 1,048,576\n",
        "   GB = float(KB ** 3) # 1,073,741,824\n",
        "   TB = float(KB ** 4) # 1,099,511,627,776\n",
        "\n",
        "   if B < KB:\n",
        "      return '{0} {1}'.format(B,'Bytes' if 0 == B > 1 else 'Byte')\n",
        "   elif KB <= B < MB:\n",
        "      return '{0:.2f} KB'.format(B/KB)\n",
        "   elif MB <= B < GB:\n",
        "      return '{0:.2f} MB'.format(B/MB)\n",
        "   elif GB <= B < TB:\n",
        "      return '{0:.2f} GB'.format(B/GB)\n",
        "   elif TB <= B:\n",
        "      return '{0:.2f} TB'.format(B/TB)\n",
        "\n",
        "def stats(df, config_data):\n",
        "  if col_header_val(df, config_data) == 1:\n",
        "    col_names = list(df.columns)\n",
        "    no_of_cols = df.shape[1]\n",
        "    no_of_rows = df.shape[0]\n",
        "    size = df.memory_usage(deep=True).sum()\n",
        "    file_size = humanbytes(size)\n",
        "    statistics = f\"\\nNo. of Columns: {no_of_cols} \\nNo. of Rows: {no_of_rows} \\nColumn Names: {col_names} \\nFile Size: {file_size}\"\n",
        "    print(statistics)\n",
        "\n",
        "def save_gz(df):\n",
        "  df.to_csv('compressed_train.gz', sep='|', compression='gzip')\n",
        "  print(\"File saved in gz format with pipe separator\")"
      ],
      "execution_count": null,
      "outputs": [
        {
          "output_type": "stream",
          "text": [
            "Overwriting testutility.py\n"
          ],
          "name": "stdout"
        }
      ]
    },
    {
      "cell_type": "markdown",
      "metadata": {
        "id": "Bacok7fy38Af"
      },
      "source": [
        "# Writing YAML File"
      ]
    },
    {
      "cell_type": "code",
      "metadata": {
        "colab": {
          "base_uri": "https://localhost:8080/"
        },
        "id": "rr_WNWGE9ytp",
        "outputId": "9cc7214f-8e07-44d4-ad3e-33bc4132734c"
      },
      "source": [
        "%%writefile file.yaml\n",
        "columns: \n",
        "  - row_id\n",
        "  - timestamp\n",
        "  - user_id\n",
        "  - content_id\n",
        "  - content_type_id\n",
        "  - task_container_id\n",
        "  - user_answer\n",
        "  - answered_correctly\n",
        "  - prior_question_elapsed_time\n",
        "  - prior_question_had_explanation\n",
        "dataset_name: trainfile\n",
        "dtypes: \n",
        "  answered_correctly: int8\n",
        "  content_id: int16\n",
        "  content_type_id: boolean\n",
        "  prior_question_elapsed_time: float32\n",
        "  prior_question_had_explanation: boolean\n",
        "  row_id: int64\n",
        "  task_container_id: int16\n",
        "  timestamp: int64\n",
        "  user_answer: int8\n",
        "  user_id: int32\n",
        "file_name: train\n",
        "file_type: csv\n",
        "inbound_delimiter: \",\"\n",
        "outbound_delimiter: \"|\"\n",
        "skip_leading_rows: 1\n",
        "table_name: edsurv"
      ],
      "execution_count": null,
      "outputs": [
        {
          "output_type": "stream",
          "text": [
            "Overwriting file.yaml\n"
          ],
          "name": "stdout"
        }
      ]
    },
    {
      "cell_type": "code",
      "metadata": {
        "id": "jCpXZcMEAHgB"
      },
      "source": [
        "# Read config file\n",
        "import testutility as util\n",
        "config_data = util.read_config_file(\"file.yaml\")"
      ],
      "execution_count": null,
      "outputs": []
    },
    {
      "cell_type": "code",
      "metadata": {
        "colab": {
          "base_uri": "https://localhost:8080/"
        },
        "id": "gpjzuIh0AKoM",
        "outputId": "fe100543-f475-49ba-e720-71a0c3a391cd"
      },
      "source": [
        "#inspecting data of config file\n",
        "config_data"
      ],
      "execution_count": null,
      "outputs": [
        {
          "output_type": "execute_result",
          "data": {
            "text/plain": [
              "{'columns': ['row_id',\n",
              "  'timestamp',\n",
              "  'user_id',\n",
              "  'content_id',\n",
              "  'content_type_id',\n",
              "  'task_container_id',\n",
              "  'user_answer',\n",
              "  'answered_correctly',\n",
              "  'prior_question_elapsed_time',\n",
              "  'prior_question_had_explanation'],\n",
              " 'dataset_name': 'trainfile',\n",
              " 'dtypes': {'answered_correctly': 'int8',\n",
              "  'content_id': 'int16',\n",
              "  'content_type_id': 'boolean',\n",
              "  'prior_question_elapsed_time': 'float32',\n",
              "  'prior_question_had_explanation': 'boolean',\n",
              "  'row_id': 'int64',\n",
              "  'task_container_id': 'int16',\n",
              "  'timestamp': 'int64',\n",
              "  'user_answer': 'int8',\n",
              "  'user_id': 'int32'},\n",
              " 'file_name': 'train',\n",
              " 'file_type': 'csv',\n",
              " 'inbound_delimiter': ',',\n",
              " 'outbound_delimiter': '|',\n",
              " 'skip_leading_rows': 1,\n",
              " 'table_name': 'edsurv'}"
            ]
          },
          "metadata": {
            "tags": []
          },
          "execution_count": 11
        }
      ]
    },
    {
      "cell_type": "code",
      "metadata": {
        "colab": {
          "base_uri": "https://localhost:8080/",
          "height": 224
        },
        "id": "K0wLrkQpANHq",
        "outputId": "d694bcf3-52e8-4679-9fdc-b554975500c0"
      },
      "source": [
        "import pandas as pd\n",
        "# read the file using config file\n",
        "file_type = config_data['file_type']\n",
        "source_file = config_data['file_name'] + f'.{file_type}'\n",
        "datatypes = config_data['dtypes']\n",
        "#print(\"\",source_file)\n",
        "df = pd.read_csv(source_file, delimiter=config_data['inbound_delimiter'], dtype=datatypes)\n",
        "df.head()"
      ],
      "execution_count": null,
      "outputs": [
        {
          "output_type": "execute_result",
          "data": {
            "text/html": [
              "<div>\n",
              "<style scoped>\n",
              "    .dataframe tbody tr th:only-of-type {\n",
              "        vertical-align: middle;\n",
              "    }\n",
              "\n",
              "    .dataframe tbody tr th {\n",
              "        vertical-align: top;\n",
              "    }\n",
              "\n",
              "    .dataframe thead th {\n",
              "        text-align: right;\n",
              "    }\n",
              "</style>\n",
              "<table border=\"1\" class=\"dataframe\">\n",
              "  <thead>\n",
              "    <tr style=\"text-align: right;\">\n",
              "      <th></th>\n",
              "      <th>row_id</th>\n",
              "      <th>timestamp</th>\n",
              "      <th>user_id</th>\n",
              "      <th>content_id</th>\n",
              "      <th>content_type_id</th>\n",
              "      <th>task_container_id</th>\n",
              "      <th>user_answer</th>\n",
              "      <th>answered_correctly</th>\n",
              "      <th>prior_question_elapsed_time</th>\n",
              "      <th>prior_question_had_explanation</th>\n",
              "    </tr>\n",
              "  </thead>\n",
              "  <tbody>\n",
              "    <tr>\n",
              "      <th>0</th>\n",
              "      <td>0</td>\n",
              "      <td>0</td>\n",
              "      <td>115</td>\n",
              "      <td>5692</td>\n",
              "      <td>False</td>\n",
              "      <td>1</td>\n",
              "      <td>3</td>\n",
              "      <td>1</td>\n",
              "      <td>NaN</td>\n",
              "      <td>&lt;NA&gt;</td>\n",
              "    </tr>\n",
              "    <tr>\n",
              "      <th>1</th>\n",
              "      <td>1</td>\n",
              "      <td>56943</td>\n",
              "      <td>115</td>\n",
              "      <td>5716</td>\n",
              "      <td>False</td>\n",
              "      <td>2</td>\n",
              "      <td>2</td>\n",
              "      <td>1</td>\n",
              "      <td>37000.0</td>\n",
              "      <td>False</td>\n",
              "    </tr>\n",
              "    <tr>\n",
              "      <th>2</th>\n",
              "      <td>2</td>\n",
              "      <td>118363</td>\n",
              "      <td>115</td>\n",
              "      <td>128</td>\n",
              "      <td>False</td>\n",
              "      <td>0</td>\n",
              "      <td>0</td>\n",
              "      <td>1</td>\n",
              "      <td>55000.0</td>\n",
              "      <td>False</td>\n",
              "    </tr>\n",
              "    <tr>\n",
              "      <th>3</th>\n",
              "      <td>3</td>\n",
              "      <td>131167</td>\n",
              "      <td>115</td>\n",
              "      <td>7860</td>\n",
              "      <td>False</td>\n",
              "      <td>3</td>\n",
              "      <td>0</td>\n",
              "      <td>1</td>\n",
              "      <td>19000.0</td>\n",
              "      <td>False</td>\n",
              "    </tr>\n",
              "    <tr>\n",
              "      <th>4</th>\n",
              "      <td>4</td>\n",
              "      <td>137965</td>\n",
              "      <td>115</td>\n",
              "      <td>7922</td>\n",
              "      <td>False</td>\n",
              "      <td>4</td>\n",
              "      <td>1</td>\n",
              "      <td>1</td>\n",
              "      <td>11000.0</td>\n",
              "      <td>False</td>\n",
              "    </tr>\n",
              "  </tbody>\n",
              "</table>\n",
              "</div>"
            ],
            "text/plain": [
              "   row_id  ...  prior_question_had_explanation\n",
              "0       0  ...                            <NA>\n",
              "1       1  ...                           False\n",
              "2       2  ...                           False\n",
              "3       3  ...                           False\n",
              "4       4  ...                           False\n",
              "\n",
              "[5 rows x 10 columns]"
            ]
          },
          "metadata": {
            "tags": []
          },
          "execution_count": 12
        }
      ]
    },
    {
      "cell_type": "code",
      "metadata": {
        "id": "ts3LGr8QzNA7"
      },
      "source": [
        "from testutility import  col_header_val, stats, save_gz"
      ],
      "execution_count": null,
      "outputs": []
    },
    {
      "cell_type": "code",
      "metadata": {
        "colab": {
          "base_uri": "https://localhost:8080/"
        },
        "id": "91XsKK2SDw9z",
        "outputId": "67ff69e7-de51-470c-85a5-63132c31bfe6"
      },
      "source": [
        "if col_header_val(df, config_data) == 0:\n",
        "    print(\"Validation Failed!!\")\n",
        "else:\n",
        "    print(\"Column Validation Passed..\")"
      ],
      "execution_count": null,
      "outputs": [
        {
          "output_type": "stream",
          "text": [
            "Column name and Column length Validation Passed!!\n",
            "Column Validation Passed..\n"
          ],
          "name": "stdout"
        }
      ]
    },
    {
      "cell_type": "code",
      "metadata": {
        "id": "eastQ3yMF03m"
      },
      "source": [
        "def stats(df, config_data):\n",
        "  if col_header_val(df, config_data) == 1:\n",
        "    col_names = list(df.columns)\n",
        "    no_of_cols = df.shape[1]\n",
        "    no_of_rows = df.shape[0]\n",
        "    size = df.memory_usage(deep=True).sum()\n",
        "    file_size = humanbytes(size)\n",
        "    statistics = f\"\\nNo. of Columns: {no_of_cols} \\nNo. of Rows: {no_of_rows} \\nColumn Names: {col_names} \\nFile Size: {file_size}\"\n",
        "    print(statistics)"
      ],
      "execution_count": null,
      "outputs": []
    },
    {
      "cell_type": "code",
      "metadata": {
        "colab": {
          "base_uri": "https://localhost:8080/"
        },
        "id": "ZdI9X1Gwtyru",
        "outputId": "f2d1597a-120d-41b1-d21c-56cb7a69d483"
      },
      "source": [
        "stats(df, config_data)"
      ],
      "execution_count": null,
      "outputs": [
        {
          "output_type": "stream",
          "text": [
            "Column name and Column length Validation Passed!!\n",
            "\n",
            "No. of Columns: 10 \n",
            "No. of Rows: 101230332 \n",
            "Column Names: ['row_id', 'timestamp', 'user_id', 'content_id', 'content_type_id', 'task_container_id', 'user_answer', 'answered_correctly', 'prior_question_elapsed_time', 'prior_question_had_explanation'] \n",
            "File Size: 3.21 GB\n"
          ],
          "name": "stdout"
        }
      ]
    },
    {
      "cell_type": "code",
      "metadata": {
        "colab": {
          "base_uri": "https://localhost:8080/"
        },
        "id": "EOINMsrtIxbn",
        "outputId": "e09b53da-03e1-4b78-f0d1-9d01813220ce"
      },
      "source": [
        "save_gz(df)"
      ],
      "execution_count": null,
      "outputs": [
        {
          "output_type": "stream",
          "text": [
            "File saved in gz format with pipe separator\n"
          ],
          "name": "stdout"
        }
      ]
    },
    {
      "cell_type": "code",
      "metadata": {
        "id": "PS53OTXsGICE"
      },
      "source": [
        ""
      ],
      "execution_count": null,
      "outputs": []
    }
  ]
}